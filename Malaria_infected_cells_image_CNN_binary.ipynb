{
 "cells": [
  {
   "cell_type": "code",
   "execution_count": 50,
   "id": "135c86b3",
   "metadata": {},
   "outputs": [],
   "source": [
    "import os\n",
    "import matplotlib.pyplot as plt\n",
    "from matplotlib.image import imread\n",
    "import seaborn as sns\n",
    "import numpy as np\n",
    "import pandas as pd"
   ]
  },
  {
   "cell_type": "code",
   "execution_count": 2,
   "id": "9d1172c8",
   "metadata": {},
   "outputs": [],
   "source": [
    "data_dir='C:/Users/sayan/Documents/Python Coding/FINAL_TF2_FILES/TF_2_Notebooks_and_Data/cell_images/cell_images'"
   ]
  },
  {
   "cell_type": "code",
   "execution_count": 3,
   "id": "762112f1",
   "metadata": {},
   "outputs": [
    {
     "data": {
      "text/plain": [
       "['test', 'train']"
      ]
     },
     "execution_count": 3,
     "metadata": {},
     "output_type": "execute_result"
    }
   ],
   "source": [
    "os.listdir(data_dir)"
   ]
  },
  {
   "cell_type": "code",
   "execution_count": 4,
   "id": "5315c95f",
   "metadata": {},
   "outputs": [],
   "source": [
    "test_path = data_dir + '/test'\n",
    "train_path = data_dir + '/train'"
   ]
  },
  {
   "cell_type": "code",
   "execution_count": 5,
   "id": "a22ddb76",
   "metadata": {},
   "outputs": [
    {
     "data": {
      "text/plain": [
       "['parasitized', 'uninfected']"
      ]
     },
     "execution_count": 5,
     "metadata": {},
     "output_type": "execute_result"
    }
   ],
   "source": [
    "os.listdir(test_path)"
   ]
  },
  {
   "cell_type": "code",
   "execution_count": 6,
   "id": "41beeff8",
   "metadata": {},
   "outputs": [
    {
     "data": {
      "text/plain": [
       "['parasitized', 'uninfected']"
      ]
     },
     "execution_count": 6,
     "metadata": {},
     "output_type": "execute_result"
    }
   ],
   "source": [
    "os.listdir(train_path)"
   ]
  },
  {
   "cell_type": "code",
   "execution_count": 7,
   "id": "13c15b62",
   "metadata": {},
   "outputs": [
    {
     "data": {
      "text/plain": [
       "['C100P61ThinF_IMG_20150918_144104_cell_162.png',\n",
       " 'C100P61ThinF_IMG_20150918_144104_cell_163.png',\n",
       " 'C100P61ThinF_IMG_20150918_144104_cell_164.png',\n",
       " 'C100P61ThinF_IMG_20150918_144104_cell_165.png',\n",
       " 'C100P61ThinF_IMG_20150918_144104_cell_166.png',\n",
       " 'C100P61ThinF_IMG_20150918_144104_cell_167.png',\n",
       " 'C100P61ThinF_IMG_20150918_144104_cell_168.png',\n",
       " 'C100P61ThinF_IMG_20150918_144104_cell_169.png',\n",
       " 'C100P61ThinF_IMG_20150918_144104_cell_170.png',\n",
       " 'C100P61ThinF_IMG_20150918_144104_cell_171.png',\n",
       " 'C100P61ThinF_IMG_20150918_144348_cell_138.png',\n",
       " 'C100P61ThinF_IMG_20150918_144348_cell_139.png',\n",
       " 'C100P61ThinF_IMG_20150918_144348_cell_140.png',\n",
       " 'C100P61ThinF_IMG_20150918_144348_cell_141.png',\n",
       " 'C100P61ThinF_IMG_20150918_144348_cell_142.png',\n",
       " 'C100P61ThinF_IMG_20150918_144348_cell_143.png',\n",
       " 'C100P61ThinF_IMG_20150918_144823_cell_157.png',\n",
       " 'C100P61ThinF_IMG_20150918_144823_cell_158.png',\n",
       " 'C100P61ThinF_IMG_20150918_144823_cell_159.png',\n",
       " 'C100P61ThinF_IMG_20150918_144823_cell_160.png',\n",
       " 'C100P61ThinF_IMG_20150918_144823_cell_161.png',\n",
       " 'C100P61ThinF_IMG_20150918_144823_cell_162.png',\n",
       " 'C100P61ThinF_IMG_20150918_145042_cell_162.png',\n",
       " 'C100P61ThinF_IMG_20150918_145042_cell_163.png',\n",
       " 'C100P61ThinF_IMG_20150918_145042_cell_164.png',\n",
       " 'C100P61ThinF_IMG_20150918_145042_cell_165.png',\n",
       " 'C100P61ThinF_IMG_20150918_145042_cell_166.png',\n",
       " 'C100P61ThinF_IMG_20150918_145042_cell_167.png',\n",
       " 'C100P61ThinF_IMG_20150918_145422_cell_163.png',\n",
       " 'C100P61ThinF_IMG_20150918_145422_cell_164.png',\n",
       " 'C100P61ThinF_IMG_20150918_145422_cell_166.png',\n",
       " 'C100P61ThinF_IMG_20150918_145422_cell_167.png',\n",
       " 'C100P61ThinF_IMG_20150918_145422_cell_168.png',\n",
       " 'C100P61ThinF_IMG_20150918_145422_cell_169.png',\n",
       " 'C100P61ThinF_IMG_20150918_145609_cell_144.png',\n",
       " 'C100P61ThinF_IMG_20150918_145609_cell_146.png',\n",
       " 'C100P61ThinF_IMG_20150918_145609_cell_147.png',\n",
       " 'C100P61ThinF_IMG_20150918_145609_cell_148.png',\n",
       " 'C100P61ThinF_IMG_20150918_145609_cell_151.png',\n",
       " 'C100P61ThinF_IMG_20150918_145938_cell_167.png',\n",
       " 'C100P61ThinF_IMG_20150918_145938_cell_168.png',\n",
       " 'C100P61ThinF_IMG_20150918_145938_cell_169.png',\n",
       " 'C100P61ThinF_IMG_20150918_145938_cell_170.png',\n",
       " 'C100P61ThinF_IMG_20150918_145938_cell_171.png',\n",
       " 'C100P61ThinF_IMG_20150918_145938_cell_172.png',\n",
       " 'C100P61ThinF_IMG_20150918_145938_cell_173.png',\n",
       " 'C100P61ThinF_IMG_20150918_145938_cell_174.png',\n",
       " 'C100P61ThinF_IMG_20150918_150041_cell_146.png',\n",
       " 'C100P61ThinF_IMG_20150918_150041_cell_147.png',\n",
       " 'C100P61ThinF_IMG_20150918_150041_cell_149.png',\n",
       " 'C101P62ThinF_IMG_20150918_151006_cell_61.png',\n",
       " 'C101P62ThinF_IMG_20150918_151006_cell_62.png',\n",
       " 'C101P62ThinF_IMG_20150918_151006_cell_63.png',\n",
       " 'C101P62ThinF_IMG_20150918_151006_cell_65.png',\n",
       " 'C101P62ThinF_IMG_20150918_151006_cell_66.png',\n",
       " 'C101P62ThinF_IMG_20150918_151006_cell_67.png',\n",
       " 'C101P62ThinF_IMG_20150918_151006_cell_68.png',\n",
       " 'C101P62ThinF_IMG_20150918_151006_cell_69.png',\n",
       " 'C101P62ThinF_IMG_20150918_151006_cell_70.png',\n",
       " 'C101P62ThinF_IMG_20150918_151006_cell_71.png',\n",
       " 'C101P62ThinF_IMG_20150918_151006_cell_72.png',\n",
       " 'C101P62ThinF_IMG_20150918_151006_cell_73.png',\n",
       " 'C101P62ThinF_IMG_20150918_151006_cell_74.png',\n",
       " 'C101P62ThinF_IMG_20150918_151006_cell_75.png',\n",
       " 'C101P62ThinF_IMG_20150918_151006_cell_76.png',\n",
       " 'C101P62ThinF_IMG_20150918_151006_cell_77.png',\n",
       " 'C101P62ThinF_IMG_20150918_151006_cell_78.png',\n",
       " 'C101P62ThinF_IMG_20150918_151006_cell_79.png',\n",
       " 'C101P62ThinF_IMG_20150918_151006_cell_80.png',\n",
       " 'C101P62ThinF_IMG_20150918_151006_cell_81.png',\n",
       " 'C101P62ThinF_IMG_20150918_151006_cell_82.png',\n",
       " 'C101P62ThinF_IMG_20150918_151006_cell_83.png',\n",
       " 'C101P62ThinF_IMG_20150918_151006_cell_84.png',\n",
       " 'C101P62ThinF_IMG_20150918_151006_cell_85.png',\n",
       " 'C101P62ThinF_IMG_20150918_151006_cell_86.png',\n",
       " 'C101P62ThinF_IMG_20150918_151149_cell_68.png',\n",
       " 'C101P62ThinF_IMG_20150918_151149_cell_69.png',\n",
       " 'C101P62ThinF_IMG_20150918_151149_cell_70.png',\n",
       " 'C101P62ThinF_IMG_20150918_151149_cell_71.png',\n",
       " 'C101P62ThinF_IMG_20150918_151149_cell_72.png',\n",
       " 'C101P62ThinF_IMG_20150918_151149_cell_73.png',\n",
       " 'C101P62ThinF_IMG_20150918_151149_cell_74.png',\n",
       " 'C101P62ThinF_IMG_20150918_151149_cell_75.png',\n",
       " 'C101P62ThinF_IMG_20150918_151149_cell_76.png',\n",
       " 'C101P62ThinF_IMG_20150918_151149_cell_77.png',\n",
       " 'C101P62ThinF_IMG_20150918_151149_cell_78.png',\n",
       " 'C101P62ThinF_IMG_20150918_151149_cell_79.png',\n",
       " 'C101P62ThinF_IMG_20150918_151149_cell_80.png',\n",
       " 'C101P62ThinF_IMG_20150918_151149_cell_81.png',\n",
       " 'C101P62ThinF_IMG_20150918_151149_cell_82.png',\n",
       " 'C101P62ThinF_IMG_20150918_151149_cell_83.png',\n",
       " 'C101P62ThinF_IMG_20150918_151149_cell_84.png',\n",
       " 'C101P62ThinF_IMG_20150918_151149_cell_85.png',\n",
       " 'C101P62ThinF_IMG_20150918_151149_cell_86.png',\n",
       " 'C101P62ThinF_IMG_20150918_151149_cell_87.png',\n",
       " 'C101P62ThinF_IMG_20150918_151149_cell_88.png',\n",
       " 'C101P62ThinF_IMG_20150918_151239_cell_100.png',\n",
       " 'C101P62ThinF_IMG_20150918_151239_cell_74.png',\n",
       " 'C101P62ThinF_IMG_20150918_151239_cell_75.png',\n",
       " 'C101P62ThinF_IMG_20150918_151239_cell_76.png',\n",
       " 'C101P62ThinF_IMG_20150918_151239_cell_77.png',\n",
       " 'C101P62ThinF_IMG_20150918_151239_cell_78.png',\n",
       " 'C101P62ThinF_IMG_20150918_151239_cell_79.png',\n",
       " 'C101P62ThinF_IMG_20150918_151239_cell_81.png',\n",
       " 'C101P62ThinF_IMG_20150918_151239_cell_82.png',\n",
       " 'C101P62ThinF_IMG_20150918_151239_cell_83.png',\n",
       " 'C101P62ThinF_IMG_20150918_151239_cell_84.png',\n",
       " 'C101P62ThinF_IMG_20150918_151239_cell_85.png',\n",
       " 'C101P62ThinF_IMG_20150918_151239_cell_86.png',\n",
       " 'C101P62ThinF_IMG_20150918_151239_cell_87.png',\n",
       " 'C101P62ThinF_IMG_20150918_151239_cell_89.png',\n",
       " 'C101P62ThinF_IMG_20150918_151239_cell_90.png',\n",
       " 'C101P62ThinF_IMG_20150918_151239_cell_91.png',\n",
       " 'C101P62ThinF_IMG_20150918_151239_cell_92.png',\n",
       " 'C101P62ThinF_IMG_20150918_151239_cell_93.png',\n",
       " 'C101P62ThinF_IMG_20150918_151239_cell_94.png',\n",
       " 'C101P62ThinF_IMG_20150918_151239_cell_95.png',\n",
       " 'C101P62ThinF_IMG_20150918_151239_cell_96.png',\n",
       " 'C101P62ThinF_IMG_20150918_151239_cell_97.png',\n",
       " 'C101P62ThinF_IMG_20150918_151239_cell_98.png',\n",
       " 'C101P62ThinF_IMG_20150918_151335_cell_51.png',\n",
       " 'C101P62ThinF_IMG_20150918_151335_cell_52.png',\n",
       " 'C101P62ThinF_IMG_20150918_151335_cell_53.png',\n",
       " 'C101P62ThinF_IMG_20150918_151335_cell_54.png',\n",
       " 'C101P62ThinF_IMG_20150918_151335_cell_55.png',\n",
       " 'C101P62ThinF_IMG_20150918_151335_cell_56.png',\n",
       " 'C101P62ThinF_IMG_20150918_151335_cell_57.png',\n",
       " 'C101P62ThinF_IMG_20150918_151335_cell_59.png',\n",
       " 'C101P62ThinF_IMG_20150918_151335_cell_60.png',\n",
       " 'C101P62ThinF_IMG_20150918_151335_cell_61.png',\n",
       " 'C101P62ThinF_IMG_20150918_151335_cell_62.png',\n",
       " 'C101P62ThinF_IMG_20150918_151335_cell_63.png',\n",
       " 'C101P62ThinF_IMG_20150918_151335_cell_64.png',\n",
       " 'C101P62ThinF_IMG_20150918_151335_cell_65.png',\n",
       " 'C101P62ThinF_IMG_20150918_151335_cell_67.png',\n",
       " 'C101P62ThinF_IMG_20150918_151335_cell_68.png',\n",
       " 'C101P62ThinF_IMG_20150918_151335_cell_69.png',\n",
       " 'C101P62ThinF_IMG_20150918_151335_cell_70.png',\n",
       " 'C101P62ThinF_IMG_20150918_151335_cell_71.png',\n",
       " 'C101P62ThinF_IMG_20150918_151335_cell_72.png',\n",
       " 'C101P62ThinF_IMG_20150918_151335_cell_73.png',\n",
       " 'C101P62ThinF_IMG_20150918_151335_cell_74.png',\n",
       " 'C101P62ThinF_IMG_20150918_151335_cell_75.png',\n",
       " 'C101P62ThinF_IMG_20150918_151335_cell_76.png',\n",
       " 'C101P62ThinF_IMG_20150918_151335_cell_77.png',\n",
       " 'C101P62ThinF_IMG_20150918_151335_cell_78.png',\n",
       " 'C101P62ThinF_IMG_20150918_151507_cell_49.png',\n",
       " 'C101P62ThinF_IMG_20150918_151507_cell_50.png',\n",
       " 'C101P62ThinF_IMG_20150918_151507_cell_51.png',\n",
       " 'C101P62ThinF_IMG_20150918_151507_cell_52.png',\n",
       " 'C101P62ThinF_IMG_20150918_151507_cell_53.png',\n",
       " 'C101P62ThinF_IMG_20150918_151507_cell_54.png',\n",
       " 'C101P62ThinF_IMG_20150918_151507_cell_55.png',\n",
       " 'C101P62ThinF_IMG_20150918_151507_cell_56.png',\n",
       " 'C101P62ThinF_IMG_20150918_151507_cell_57.png',\n",
       " 'C101P62ThinF_IMG_20150918_151507_cell_58.png',\n",
       " 'C101P62ThinF_IMG_20150918_151507_cell_59.png',\n",
       " 'C101P62ThinF_IMG_20150918_151507_cell_61.png',\n",
       " 'C101P62ThinF_IMG_20150918_151507_cell_62.png',\n",
       " 'C101P62ThinF_IMG_20150918_151507_cell_64.png',\n",
       " 'C101P62ThinF_IMG_20150918_151507_cell_66.png',\n",
       " 'C101P62ThinF_IMG_20150918_151507_cell_67.png',\n",
       " 'C101P62ThinF_IMG_20150918_151507_cell_68.png',\n",
       " 'C101P62ThinF_IMG_20150918_151507_cell_69.png',\n",
       " 'C101P62ThinF_IMG_20150918_151507_cell_71.png',\n",
       " 'C101P62ThinF_IMG_20150918_151507_cell_72.png',\n",
       " 'C101P62ThinF_IMG_20150918_151507_cell_74.png',\n",
       " 'C101P62ThinF_IMG_20150918_151507_cell_76.png',\n",
       " 'C101P62ThinF_IMG_20150918_151507_cell_77.png',\n",
       " 'C101P62ThinF_IMG_20150918_151942_cell_58.png',\n",
       " 'C101P62ThinF_IMG_20150918_151942_cell_59.png',\n",
       " 'C101P62ThinF_IMG_20150918_151942_cell_60.png',\n",
       " 'C101P62ThinF_IMG_20150918_151942_cell_61.png',\n",
       " 'C101P62ThinF_IMG_20150918_151942_cell_62.png',\n",
       " 'C101P62ThinF_IMG_20150918_151942_cell_64.png',\n",
       " 'C101P62ThinF_IMG_20150918_151942_cell_66.png',\n",
       " 'C101P62ThinF_IMG_20150918_151942_cell_67.png',\n",
       " 'C101P62ThinF_IMG_20150918_151942_cell_68.png',\n",
       " 'C101P62ThinF_IMG_20150918_151942_cell_69.png',\n",
       " 'C101P62ThinF_IMG_20150918_151942_cell_71.png',\n",
       " 'C101P62ThinF_IMG_20150918_151942_cell_72.png',\n",
       " 'C101P62ThinF_IMG_20150918_151942_cell_73.png',\n",
       " 'C101P62ThinF_IMG_20150918_151942_cell_74.png',\n",
       " 'C101P62ThinF_IMG_20150918_151942_cell_75.png',\n",
       " 'C101P62ThinF_IMG_20150918_151942_cell_76.png',\n",
       " 'C101P62ThinF_IMG_20150918_151942_cell_77.png',\n",
       " 'C101P62ThinF_IMG_20150918_151942_cell_78.png',\n",
       " 'C101P62ThinF_IMG_20150918_151942_cell_79.png',\n",
       " 'C101P62ThinF_IMG_20150918_151942_cell_80.png',\n",
       " 'C101P62ThinF_IMG_20150918_151942_cell_81.png',\n",
       " 'C101P62ThinF_IMG_20150918_151942_cell_82.png',\n",
       " 'C101P62ThinF_IMG_20150918_151942_cell_83.png',\n",
       " 'C101P62ThinF_IMG_20150918_151942_cell_84.png',\n",
       " 'C101P62ThinF_IMG_20150918_151942_cell_85.png',\n",
       " 'C101P62ThinF_IMG_20150918_151942_cell_88.png',\n",
       " 'C101P62ThinF_IMG_20150918_151942_cell_89.png',\n",
       " 'C101P62ThinF_IMG_20150918_151942_cell_90.png',\n",
       " 'C101P62ThinF_IMG_20150918_155026_cell_1.png',\n",
       " 'C101P62ThinF_IMG_20150918_155731_cell_61.png',\n",
       " 'C101P62ThinF_IMG_20150918_155731_cell_63.png',\n",
       " 'C101P62ThinF_IMG_20150918_155731_cell_64.png',\n",
       " 'C101P62ThinF_IMG_20150918_155731_cell_65.png',\n",
       " 'C101P62ThinF_IMG_20150918_155731_cell_68.png',\n",
       " 'C101P62ThinF_IMG_20150918_155731_cell_69.png',\n",
       " 'C101P62ThinF_IMG_20150918_155731_cell_70.png',\n",
       " 'C101P62ThinF_IMG_20150918_155731_cell_71.png',\n",
       " 'C101P62ThinF_IMG_20150918_155731_cell_73.png',\n",
       " 'C101P62ThinF_IMG_20150918_155731_cell_74.png',\n",
       " 'C101P62ThinF_IMG_20150918_155731_cell_75.png',\n",
       " 'C101P62ThinF_IMG_20150918_155731_cell_76.png',\n",
       " 'C101P62ThinF_IMG_20150918_155731_cell_77.png',\n",
       " 'C101P62ThinF_IMG_20150918_155731_cell_78.png',\n",
       " 'C101P62ThinF_IMG_20150918_155731_cell_79.png',\n",
       " 'C101P62ThinF_IMG_20150918_155731_cell_80.png',\n",
       " 'C101P62ThinF_IMG_20150918_155731_cell_81.png',\n",
       " 'C101P62ThinF_IMG_20150918_155731_cell_82.png',\n",
       " 'C101P62ThinF_IMG_20150918_155731_cell_83.png',\n",
       " 'C101P62ThinF_IMG_20150918_155731_cell_84.png',\n",
       " 'C101P62ThinF_IMG_20150923_165215_cell_1.png',\n",
       " 'C101P62ThinF_IMG_20150923_165215_cell_10.png',\n",
       " 'C101P62ThinF_IMG_20150923_165215_cell_11.png',\n",
       " 'C101P62ThinF_IMG_20150923_165215_cell_12.png',\n",
       " 'C101P62ThinF_IMG_20150923_165215_cell_13.png',\n",
       " 'C101P62ThinF_IMG_20150923_165215_cell_14.png',\n",
       " 'C101P62ThinF_IMG_20150923_165215_cell_15.png',\n",
       " 'C101P62ThinF_IMG_20150923_165215_cell_16.png',\n",
       " 'C101P62ThinF_IMG_20150923_165215_cell_17.png',\n",
       " 'C101P62ThinF_IMG_20150923_165215_cell_19.png',\n",
       " 'C101P62ThinF_IMG_20150923_165215_cell_20.png',\n",
       " 'C101P62ThinF_IMG_20150923_165215_cell_21.png',\n",
       " 'C101P62ThinF_IMG_20150923_165215_cell_22.png',\n",
       " 'C101P62ThinF_IMG_20150923_165215_cell_23.png',\n",
       " 'C101P62ThinF_IMG_20150923_165215_cell_24.png',\n",
       " 'C101P62ThinF_IMG_20150923_165215_cell_25.png',\n",
       " 'C101P62ThinF_IMG_20150923_165215_cell_26.png',\n",
       " 'C101P62ThinF_IMG_20150923_165215_cell_27.png',\n",
       " 'C101P62ThinF_IMG_20150923_165215_cell_28.png',\n",
       " 'C101P62ThinF_IMG_20150923_165215_cell_29.png',\n",
       " 'C101P62ThinF_IMG_20150923_165215_cell_3.png',\n",
       " 'C101P62ThinF_IMG_20150923_165215_cell_30.png',\n",
       " 'C101P62ThinF_IMG_20150923_165215_cell_32.png',\n",
       " 'C101P62ThinF_IMG_20150923_165215_cell_33.png',\n",
       " 'C101P62ThinF_IMG_20150923_165215_cell_34.png',\n",
       " 'C101P62ThinF_IMG_20150923_165215_cell_35.png',\n",
       " 'C101P62ThinF_IMG_20150923_165215_cell_37.png',\n",
       " 'C101P62ThinF_IMG_20150923_165215_cell_38.png',\n",
       " 'C101P62ThinF_IMG_20150923_165215_cell_39.png',\n",
       " 'C101P62ThinF_IMG_20150923_165215_cell_4.png',\n",
       " 'C101P62ThinF_IMG_20150923_165215_cell_40.png',\n",
       " 'C101P62ThinF_IMG_20150923_165215_cell_41.png',\n",
       " 'C101P62ThinF_IMG_20150923_165215_cell_5.png',\n",
       " 'C101P62ThinF_IMG_20150923_165215_cell_6.png',\n",
       " 'C101P62ThinF_IMG_20150923_165215_cell_7.png',\n",
       " 'C101P62ThinF_IMG_20150923_165215_cell_8.png',\n",
       " 'C101P62ThinF_IMG_20150923_165215_cell_9.png',\n",
       " 'C101P62ThinF_IMG_20150923_170110_cell_1.png',\n",
       " 'C101P62ThinF_IMG_20150923_170110_cell_10.png',\n",
       " 'C101P62ThinF_IMG_20150923_170110_cell_11.png',\n",
       " 'C101P62ThinF_IMG_20150923_170110_cell_12.png',\n",
       " 'C101P62ThinF_IMG_20150923_170110_cell_14.png',\n",
       " 'C101P62ThinF_IMG_20150923_170110_cell_15.png',\n",
       " 'C101P62ThinF_IMG_20150923_170110_cell_16.png',\n",
       " 'C101P62ThinF_IMG_20150923_170110_cell_17.png',\n",
       " 'C101P62ThinF_IMG_20150923_170110_cell_18.png',\n",
       " 'C101P62ThinF_IMG_20150923_170110_cell_19.png',\n",
       " 'C101P62ThinF_IMG_20150923_170110_cell_2.png',\n",
       " 'C101P62ThinF_IMG_20150923_170110_cell_20.png',\n",
       " 'C101P62ThinF_IMG_20150923_170110_cell_21.png',\n",
       " 'C101P62ThinF_IMG_20150923_170110_cell_22.png',\n",
       " 'C101P62ThinF_IMG_20150923_170110_cell_23.png',\n",
       " 'C101P62ThinF_IMG_20150923_170110_cell_24.png',\n",
       " 'C101P62ThinF_IMG_20150923_170110_cell_3.png',\n",
       " 'C101P62ThinF_IMG_20150923_170110_cell_4.png',\n",
       " 'C101P62ThinF_IMG_20150923_170110_cell_5.png',\n",
       " 'C101P62ThinF_IMG_20150923_170110_cell_6.png',\n",
       " 'C101P62ThinF_IMG_20150923_170110_cell_7.png',\n",
       " 'C101P62ThinF_IMG_20150923_170110_cell_8.png',\n",
       " 'C101P62ThinF_IMG_20150923_170110_cell_9.png',\n",
       " 'C101P62ThinF_IMG_20150923_170246_cell_62.png',\n",
       " 'C101P62ThinF_IMG_20150923_170246_cell_63.png',\n",
       " 'C101P62ThinF_IMG_20150923_170246_cell_64.png',\n",
       " 'C101P62ThinF_IMG_20150923_170246_cell_65.png',\n",
       " 'C101P62ThinF_IMG_20150923_170246_cell_66.png',\n",
       " 'C101P62ThinF_IMG_20150923_170246_cell_67.png',\n",
       " 'C101P62ThinF_IMG_20150923_170246_cell_68.png',\n",
       " 'C101P62ThinF_IMG_20150923_170246_cell_70.png',\n",
       " 'C101P62ThinF_IMG_20150923_170246_cell_71.png',\n",
       " 'C101P62ThinF_IMG_20150923_170246_cell_72.png',\n",
       " 'C101P62ThinF_IMG_20150923_170246_cell_74.png',\n",
       " 'C101P62ThinF_IMG_20150923_170246_cell_75.png',\n",
       " 'C101P62ThinF_IMG_20150923_170246_cell_76.png',\n",
       " 'C101P62ThinF_IMG_20150923_170246_cell_77.png',\n",
       " 'C101P62ThinF_IMG_20150923_170246_cell_78.png',\n",
       " 'C101P62ThinF_IMG_20150923_170246_cell_79.png',\n",
       " 'C101P62ThinF_IMG_20150923_170246_cell_80.png',\n",
       " 'C101P62ThinF_IMG_20150923_170246_cell_81.png',\n",
       " 'C101P62ThinF_IMG_20150923_170246_cell_82.png',\n",
       " 'C101P62ThinF_IMG_20150923_170246_cell_83.png',\n",
       " 'C101P62ThinF_IMG_20150923_170246_cell_84.png',\n",
       " 'C101P62ThinF_IMG_20150923_170246_cell_85.png',\n",
       " 'C101P62ThinF_IMG_20150923_170246_cell_87.png',\n",
       " 'C101P62ThinF_IMG_20150923_170246_cell_88.png',\n",
       " 'C101P62ThinF_IMG_20150923_170246_cell_89.png',\n",
       " 'C101P62ThinF_IMG_20150923_170246_cell_90.png',\n",
       " 'C101P62ThinF_IMG_20150923_170344_cell_100.png',\n",
       " 'C101P62ThinF_IMG_20150923_170344_cell_71.png',\n",
       " 'C101P62ThinF_IMG_20150923_170344_cell_72.png',\n",
       " 'C101P62ThinF_IMG_20150923_170344_cell_73.png',\n",
       " 'C101P62ThinF_IMG_20150923_170344_cell_74.png',\n",
       " 'C101P62ThinF_IMG_20150923_170344_cell_75.png',\n",
       " 'C101P62ThinF_IMG_20150923_170344_cell_76.png',\n",
       " 'C101P62ThinF_IMG_20150923_170344_cell_77.png',\n",
       " 'C101P62ThinF_IMG_20150923_170344_cell_78.png',\n",
       " 'C101P62ThinF_IMG_20150923_170344_cell_79.png',\n",
       " 'C101P62ThinF_IMG_20150923_170344_cell_80.png',\n",
       " 'C101P62ThinF_IMG_20150923_170344_cell_81.png',\n",
       " 'C101P62ThinF_IMG_20150923_170344_cell_82.png',\n",
       " 'C101P62ThinF_IMG_20150923_170344_cell_84.png',\n",
       " 'C101P62ThinF_IMG_20150923_170344_cell_86.png',\n",
       " 'C101P62ThinF_IMG_20150923_170344_cell_87.png',\n",
       " 'C101P62ThinF_IMG_20150923_170344_cell_88.png',\n",
       " 'C101P62ThinF_IMG_20150923_170344_cell_89.png',\n",
       " 'C101P62ThinF_IMG_20150923_170344_cell_90.png',\n",
       " 'C101P62ThinF_IMG_20150923_170344_cell_91.png',\n",
       " 'C101P62ThinF_IMG_20150923_170344_cell_92.png',\n",
       " 'C101P62ThinF_IMG_20150923_170344_cell_93.png',\n",
       " 'C101P62ThinF_IMG_20150923_170344_cell_94.png',\n",
       " 'C101P62ThinF_IMG_20150923_170344_cell_95.png',\n",
       " 'C101P62ThinF_IMG_20150923_170344_cell_97.png',\n",
       " 'C101P62ThinF_IMG_20150923_170344_cell_98.png',\n",
       " 'C102P63ThinF_IMG_20150918_161508_cell_190.png',\n",
       " 'C102P63ThinF_IMG_20150918_161508_cell_191.png',\n",
       " 'C102P63ThinF_IMG_20150918_161508_cell_192.png',\n",
       " 'C102P63ThinF_IMG_20150918_161508_cell_193.png',\n",
       " 'C102P63ThinF_IMG_20150918_161508_cell_194.png',\n",
       " 'C102P63ThinF_IMG_20150918_161508_cell_195.png',\n",
       " 'C102P63ThinF_IMG_20150918_161826_cell_170.png',\n",
       " 'C102P63ThinF_IMG_20150918_161826_cell_171.png',\n",
       " 'C102P63ThinF_IMG_20150918_161826_cell_172.png',\n",
       " 'C102P63ThinF_IMG_20150918_162051_cell_141.png',\n",
       " 'C102P63ThinF_IMG_20150918_162051_cell_142.png',\n",
       " 'C102P63ThinF_IMG_20150918_162051_cell_143.png',\n",
       " 'C102P63ThinF_IMG_20150918_162051_cell_144.png',\n",
       " 'C102P63ThinF_IMG_20150918_162051_cell_145.png',\n",
       " 'C102P63ThinF_IMG_20150918_162051_cell_146.png',\n",
       " 'C102P63ThinF_IMG_20150918_162051_cell_147.png',\n",
       " 'C102P63ThinF_IMG_20150918_162155_cell_132.png',\n",
       " 'C102P63ThinF_IMG_20150918_162155_cell_133.png',\n",
       " 'C102P63ThinF_IMG_20150918_162300_cell_180.png',\n",
       " 'C102P63ThinF_IMG_20150918_162300_cell_181.png',\n",
       " 'C102P63ThinF_IMG_20150918_162300_cell_182.png',\n",
       " 'C102P63ThinF_IMG_20150918_162511_cell_169.png',\n",
       " 'C102P63ThinF_IMG_20150918_162511_cell_170.png',\n",
       " 'C102P63ThinF_IMG_20150918_162511_cell_171.png',\n",
       " 'C102P63ThinF_IMG_20150918_162511_cell_172.png',\n",
       " 'C102P63ThinF_IMG_20150918_162511_cell_173.png',\n",
       " 'C102P63ThinF_IMG_20150918_162927_cell_1.png',\n",
       " 'C102P63ThinF_IMG_20150918_162927_cell_2.png',\n",
       " 'C102P63ThinF_IMG_20150918_162927_cell_3.png',\n",
       " 'C102P63ThinF_IMG_20150918_162927_cell_4.png',\n",
       " 'C102P63ThinF_IMG_20150918_162927_cell_5.png',\n",
       " 'C102P63ThinF_IMG_20150918_163054_cell_167.png',\n",
       " 'C102P63ThinF_IMG_20150918_163054_cell_168.png',\n",
       " 'C102P63ThinF_IMG_20150918_163054_cell_169.png',\n",
       " 'C102P63ThinF_IMG_20150918_163054_cell_170.png',\n",
       " 'C103P64ThinF_IMG_20150918_164250_cell_170.png',\n",
       " 'C103P64ThinF_IMG_20150918_164250_cell_172.png',\n",
       " 'C103P64ThinF_IMG_20150918_164250_cell_173.png',\n",
       " 'C103P64ThinF_IMG_20150918_164250_cell_174.png',\n",
       " 'C103P64ThinF_IMG_20150918_164331_cell_185.png',\n",
       " 'C103P64ThinF_IMG_20150918_164331_cell_186.png',\n",
       " 'C103P64ThinF_IMG_20150918_164331_cell_187.png',\n",
       " 'C103P64ThinF_IMG_20150918_164553_cell_167.png',\n",
       " 'C103P64ThinF_IMG_20150918_164553_cell_168.png',\n",
       " 'C103P64ThinF_IMG_20150918_164553_cell_169.png',\n",
       " 'C103P64ThinF_IMG_20150918_164553_cell_170.png',\n",
       " 'C103P64ThinF_IMG_20150918_164553_cell_172.png',\n",
       " 'C103P64ThinF_IMG_20150918_164553_cell_173.png',\n",
       " 'C103P64ThinF_IMG_20150918_165016_cell_158.png',\n",
       " 'C103P64ThinF_IMG_20150918_165016_cell_159.png',\n",
       " 'C103P64ThinF_IMG_20150918_165016_cell_160.png',\n",
       " 'C103P64ThinF_IMG_20150918_165016_cell_161.png',\n",
       " 'C103P64ThinF_IMG_20150918_165016_cell_162.png',\n",
       " 'C103P64ThinF_IMG_20150918_165125_cell_163.png',\n",
       " 'C103P64ThinF_IMG_20150918_165125_cell_164.png',\n",
       " 'C103P64ThinF_IMG_20150918_165125_cell_165.png',\n",
       " 'C103P64ThinF_IMG_20150918_165125_cell_166.png',\n",
       " 'C103P64ThinF_IMG_20150918_165510_cell_176.png',\n",
       " 'C103P64ThinF_IMG_20150918_165510_cell_177.png',\n",
       " 'C103P64ThinF_IMG_20150918_165510_cell_178.png',\n",
       " 'C103P64ThinF_IMG_20150918_165510_cell_179.png',\n",
       " 'C103P64ThinF_IMG_20150918_165510_cell_180.png',\n",
       " 'C103P64ThinF_IMG_20150918_165510_cell_181.png',\n",
       " 'C103P64ThinF_IMG_20150918_165510_cell_182.png',\n",
       " 'C103P64ThinF_IMG_20150918_165510_cell_183.png',\n",
       " 'C103P64ThinF_IMG_20150918_165510_cell_184.png',\n",
       " 'C103P64ThinF_IMG_20150918_165510_cell_185.png',\n",
       " 'C103P64ThinF_IMG_20150918_165510_cell_186.png',\n",
       " 'C103P64ThinF_IMG_20150918_165510_cell_188.png',\n",
       " 'C104P65ThinF_IMG_20150918_170850_cell_204.png',\n",
       " 'C104P65ThinF_IMG_20150918_171154_cell_212.png',\n",
       " 'C104P65ThinF_IMG_20150918_171154_cell_213.png',\n",
       " 'C104P65ThinF_IMG_20150918_171751_cell_186.png',\n",
       " 'C104P65ThinF_IMG_20150918_171751_cell_187.png',\n",
       " 'C104P65ThinF_IMG_20150918_172053_cell_187.png',\n",
       " 'C104P65ThinF_IMG_20150918_172537_cell_149.png',\n",
       " 'C104P65ThinF_IMG_20150918_172639_cell_182.png',\n",
       " 'C104P65ThinF_IMG_20150918_172639_cell_184.png',\n",
       " 'C105P66ThinF_IMG_20150924_094800_cell_136.png',\n",
       " 'C105P66ThinF_IMG_20150924_094800_cell_137.png',\n",
       " 'C105P66ThinF_IMG_20150924_095034_cell_148.png',\n",
       " 'C105P66ThinF_IMG_20150924_095034_cell_149.png',\n",
       " 'C105P66ThinF_IMG_20150924_095034_cell_150.png',\n",
       " 'C105P66ThinF_IMG_20150924_095130_cell_155.png',\n",
       " 'C105P66ThinF_IMG_20150924_095130_cell_156.png',\n",
       " 'C105P66ThinF_IMG_20150924_095130_cell_157.png',\n",
       " 'C105P66ThinF_IMG_20150924_095130_cell_158.png',\n",
       " 'C105P66ThinF_IMG_20150924_095633_cell_126.png',\n",
       " 'C105P66ThinF_IMG_20150924_095716_cell_113.png',\n",
       " 'C105P66ThinF_IMG_20150924_095716_cell_114.png',\n",
       " 'C105P66ThinF_IMG_20150924_095913_cell_117.png',\n",
       " 'C105P66ThinF_IMG_20150924_095913_cell_118.png',\n",
       " 'C105P66ThinF_IMG_20150924_100655_cell_123.png',\n",
       " 'C105P66ThinF_IMG_20150924_100655_cell_124.png',\n",
       " 'C105P66ThinF_IMG_20150924_100655_cell_125.png',\n",
       " 'C106P67ThinF_IMG_20150924_102245_cell_164.png',\n",
       " 'C106P67ThinF_IMG_20150924_102245_cell_165.png',\n",
       " 'C106P67ThinF_IMG_20150924_102245_cell_166.png',\n",
       " 'C106P67ThinF_IMG_20150924_102413_cell_190.png',\n",
       " 'C106P67ThinF_IMG_20150924_102826_cell_143.png',\n",
       " 'C106P67ThinF_IMG_20150924_103245_cell_143.png',\n",
       " 'C106P67ThinF_IMG_20150924_103811_cell_180.png',\n",
       " 'C106P67ThinF_IMG_20150924_103811_cell_181.png',\n",
       " 'C106P67ThinF_IMG_20150924_103811_cell_182.png',\n",
       " 'C106P67ThinF_IMG_20150924_103811_cell_183.png',\n",
       " 'C106P67ThinF_IMG_20150924_104044_cell_167.png',\n",
       " 'C106P67ThinF_IMG_20150924_104044_cell_168.png',\n",
       " 'C107P68ThinF_IMG_20150924_221632_cell_169.png',\n",
       " 'C107P68ThinF_IMG_20150924_221632_cell_170.png',\n",
       " 'C107P68ThinF_IMG_20150924_221632_cell_172.png',\n",
       " 'C107P68ThinF_IMG_20150924_221632_cell_173.png',\n",
       " 'C107P68ThinF_IMG_20150924_221632_cell_174.png',\n",
       " 'C107P68ThinF_IMG_20150924_221632_cell_175.png',\n",
       " 'C107P68ThinF_IMG_20150924_221632_cell_176.png',\n",
       " 'C107P68ThinF_IMG_20150924_221632_cell_177.png',\n",
       " 'C107P68ThinF_IMG_20150924_221632_cell_178.png',\n",
       " 'C107P68ThinF_IMG_20150924_221632_cell_179.png',\n",
       " 'C107P68ThinF_IMG_20150924_221632_cell_180.png',\n",
       " 'C107P68ThinF_IMG_20150924_221909_cell_156.png',\n",
       " 'C107P68ThinF_IMG_20150924_221909_cell_159.png',\n",
       " 'C107P68ThinF_IMG_20150924_221909_cell_160.png',\n",
       " 'C107P68ThinF_IMG_20150924_221909_cell_161.png',\n",
       " 'C107P68ThinF_IMG_20150924_221909_cell_162.png',\n",
       " 'C107P68ThinF_IMG_20150924_221909_cell_163.png',\n",
       " 'C107P68ThinF_IMG_20150924_222233_cell_150.png',\n",
       " 'C107P68ThinF_IMG_20150924_222233_cell_151.png',\n",
       " 'C107P68ThinF_IMG_20150924_222233_cell_153.png',\n",
       " 'C107P68ThinF_IMG_20150924_222233_cell_154.png',\n",
       " 'C107P68ThinF_IMG_20150924_222233_cell_156.png',\n",
       " 'C107P68ThinF_IMG_20150924_222233_cell_157.png',\n",
       " 'C107P68ThinF_IMG_20150924_222233_cell_158.png',\n",
       " 'C107P68ThinF_IMG_20150924_222233_cell_159.png',\n",
       " 'C107P68ThinF_IMG_20150924_222233_cell_160.png',\n",
       " 'C107P68ThinF_IMG_20150924_222233_cell_161.png',\n",
       " 'C107P68ThinF_IMG_20150924_222233_cell_162.png',\n",
       " 'C107P68ThinF_IMG_20150924_222233_cell_163.png',\n",
       " 'C107P68ThinF_IMG_20150924_222415_cell_172.png',\n",
       " 'C107P68ThinF_IMG_20150924_222415_cell_173.png',\n",
       " 'C107P68ThinF_IMG_20150924_222415_cell_174.png',\n",
       " 'C107P68ThinF_IMG_20150924_222415_cell_175.png',\n",
       " 'C107P68ThinF_IMG_20150924_222415_cell_176.png',\n",
       " 'C107P68ThinF_IMG_20150924_222415_cell_177.png',\n",
       " 'C107P68ThinF_IMG_20150924_222415_cell_178.png',\n",
       " 'C107P68ThinF_IMG_20150924_222415_cell_179.png',\n",
       " 'C107P68ThinF_IMG_20150924_222415_cell_180.png',\n",
       " 'C107P68ThinF_IMG_20150924_222415_cell_181.png',\n",
       " 'C107P68ThinF_IMG_20150924_222415_cell_182.png',\n",
       " 'C107P68ThinF_IMG_20150924_222415_cell_183.png',\n",
       " 'C107P68ThinF_IMG_20150924_222535_cell_139.png',\n",
       " 'C107P68ThinF_IMG_20150924_222535_cell_140.png',\n",
       " 'C107P68ThinF_IMG_20150924_222535_cell_141.png',\n",
       " 'C107P68ThinF_IMG_20150924_222535_cell_142.png',\n",
       " 'C107P68ThinF_IMG_20150924_222535_cell_143.png',\n",
       " 'C107P68ThinF_IMG_20150924_222535_cell_144.png',\n",
       " 'C107P68ThinF_IMG_20150924_222535_cell_145.png',\n",
       " 'C107P68ThinF_IMG_20150924_222535_cell_146.png',\n",
       " 'C107P68ThinF_IMG_20150924_222535_cell_147.png',\n",
       " 'C107P68ThinF_IMG_20150924_222535_cell_148.png',\n",
       " 'C107P68ThinF_IMG_20150924_222630_cell_174.png',\n",
       " 'C107P68ThinF_IMG_20150924_222630_cell_175.png',\n",
       " 'C107P68ThinF_IMG_20150924_222630_cell_176.png',\n",
       " 'C107P68ThinF_IMG_20150924_222630_cell_177.png',\n",
       " 'C108P69ThinF_IMG_20150924_223834_cell_218.png',\n",
       " 'C108P69ThinF_IMG_20150924_223834_cell_219.png',\n",
       " 'C108P69ThinF_IMG_20150924_223834_cell_220.png',\n",
       " 'C108P69ThinF_IMG_20150924_223834_cell_221.png',\n",
       " 'C108P69ThinF_IMG_20150924_224038_cell_188.png',\n",
       " 'C108P69ThinF_IMG_20150924_224038_cell_189.png',\n",
       " 'C108P69ThinF_IMG_20150924_224038_cell_190.png',\n",
       " 'C108P69ThinF_IMG_20150924_224616_cell_195.png',\n",
       " 'C108P69ThinF_IMG_20150924_224616_cell_196.png',\n",
       " 'C108P69ThinF_IMG_20150924_224616_cell_197.png',\n",
       " 'C108P69ThinF_IMG_20150924_224616_cell_198.png',\n",
       " 'C108P69ThinF_IMG_20150924_224909_cell_226.png',\n",
       " 'C108P69ThinF_IMG_20150924_225004_cell_221.png',\n",
       " 'C108P69ThinF_IMG_20150924_225004_cell_222.png',\n",
       " 'C108P69ThinF_IMG_20150924_225004_cell_223.png',\n",
       " 'C108P69ThinF_IMG_20150924_225004_cell_224.png',\n",
       " 'C108P69ThinF_IMG_20150924_225004_cell_225.png',\n",
       " 'C108P69ThinF_IMG_20150924_225511_cell_182.png',\n",
       " 'C108P69ThinF_IMG_20150924_225511_cell_183.png',\n",
       " 'C108P69ThinF_IMG_20150924_225511_cell_184.png',\n",
       " 'C109P70ThinF_IMG_20150930_102716_cell_185.png',\n",
       " 'C109P70ThinF_IMG_20150930_102716_cell_186.png',\n",
       " 'C109P70ThinF_IMG_20150930_102716_cell_187.png',\n",
       " 'C109P70ThinF_IMG_20150930_102944_cell_171.png',\n",
       " 'C109P70ThinF_IMG_20150930_102944_cell_172.png',\n",
       " 'C109P70ThinF_IMG_20150930_103113_cell_160.png',\n",
       " 'C109P70ThinF_IMG_20150930_103113_cell_162.png',\n",
       " 'C109P70ThinF_IMG_20150930_103214_cell_182.png',\n",
       " 'C109P70ThinF_IMG_20150930_103214_cell_183.png',\n",
       " 'C109P70ThinF_IMG_20150930_103214_cell_184.png',\n",
       " 'C109P70ThinF_IMG_20150930_103214_cell_185.png',\n",
       " 'C109P70ThinF_IMG_20150930_103645_cell_172.png',\n",
       " 'C109P70ThinF_IMG_20150930_103645_cell_173.png',\n",
       " 'C109P70ThinF_IMG_20150930_103645_cell_174.png',\n",
       " 'C109P70ThinF_IMG_20150930_103645_cell_175.png',\n",
       " 'C109P70ThinF_IMG_20150930_103811_cell_157.png',\n",
       " 'C109P70ThinF_IMG_20150930_103811_cell_158.png',\n",
       " 'C110P71ThinF_IMG_20150930_105319_cell_185.png',\n",
       " 'C110P71ThinF_IMG_20150930_105319_cell_186.png',\n",
       " 'C110P71ThinF_IMG_20150930_105319_cell_187.png',\n",
       " 'C110P71ThinF_IMG_20150930_105319_cell_188.png',\n",
       " 'C110P71ThinF_IMG_20150930_105319_cell_189.png',\n",
       " 'C110P71ThinF_IMG_20150930_105319_cell_190.png',\n",
       " 'C110P71ThinF_IMG_20150930_105559_cell_199.png',\n",
       " 'C110P71ThinF_IMG_20150930_105559_cell_200.png',\n",
       " 'C110P71ThinF_IMG_20150930_105559_cell_201.png',\n",
       " 'C110P71ThinF_IMG_20150930_105559_cell_202.png',\n",
       " 'C110P71ThinF_IMG_20150930_105729_cell_207.png',\n",
       " 'C110P71ThinF_IMG_20150930_105925_cell_221.png',\n",
       " 'C110P71ThinF_IMG_20150930_110052_cell_238.png',\n",
       " 'C110P71ThinF_IMG_20150930_110052_cell_239.png',\n",
       " 'C110P71ThinF_IMG_20150930_110052_cell_240.png',\n",
       " 'C110P71ThinF_IMG_20150930_110052_cell_241.png',\n",
       " 'C110P71ThinF_IMG_20150930_110052_cell_242.png',\n",
       " 'C110P71ThinF_IMG_20150930_110052_cell_243.png',\n",
       " 'C110P71ThinF_IMG_20150930_110404_cell_157.png',\n",
       " 'C110P71ThinF_IMG_20150930_110404_cell_158.png',\n",
       " 'C110P71ThinF_IMG_20150930_110404_cell_159.png',\n",
       " 'C110P71ThinF_IMG_20150930_110404_cell_160.png',\n",
       " 'C111P72ThinF_IMG_20150930_112430_cell_191.png',\n",
       " 'C111P72ThinF_IMG_20150930_112430_cell_192.png',\n",
       " 'C111P72ThinF_IMG_20150930_112430_cell_193.png',\n",
       " 'C111P72ThinF_IMG_20150930_112609_cell_169.png',\n",
       " 'C111P72ThinF_IMG_20150930_112609_cell_170.png',\n",
       " 'C111P72ThinF_IMG_20150930_112827_cell_176.png',\n",
       " 'C111P72ThinF_IMG_20150930_112827_cell_177.png',\n",
       " 'C111P72ThinF_IMG_20150930_112827_cell_178.png',\n",
       " 'C111P72ThinF_IMG_20150930_112827_cell_179.png',\n",
       " 'C111P72ThinF_IMG_20150930_113003_cell_182.png',\n",
       " 'C111P72ThinF_IMG_20150930_113049_cell_162.png',\n",
       " 'C111P72ThinF_IMG_20150930_113049_cell_163.png',\n",
       " 'C111P72ThinF_IMG_20150930_113049_cell_164.png',\n",
       " 'C111P72ThinF_IMG_20150930_113049_cell_165.png',\n",
       " 'C111P72ThinF_IMG_20150930_113049_cell_166.png',\n",
       " 'C111P72ThinF_IMG_20150930_113210_cell_171.png',\n",
       " 'C111P72ThinF_IMG_20150930_113610_cell_202.png',\n",
       " 'C111P72ThinF_IMG_20150930_113610_cell_203.png',\n",
       " 'C112P73ThinF_IMG_20150930_131254_cell_184.png',\n",
       " 'C112P73ThinF_IMG_20150930_131401_cell_165.png',\n",
       " 'C112P73ThinF_IMG_20150930_131401_cell_166.png',\n",
       " 'C112P73ThinF_IMG_20150930_131401_cell_167.png',\n",
       " 'C112P73ThinF_IMG_20150930_131401_cell_168.png',\n",
       " 'C112P73ThinF_IMG_20150930_131516_cell_177.png',\n",
       " 'C112P73ThinF_IMG_20150930_131516_cell_178.png',\n",
       " 'C112P73ThinF_IMG_20150930_131605_cell_181.png',\n",
       " 'C112P73ThinF_IMG_20150930_131605_cell_182.png',\n",
       " 'C112P73ThinF_IMG_20150930_131605_cell_183.png',\n",
       " 'C112P73ThinF_IMG_20150930_131659_cell_193.png',\n",
       " 'C112P73ThinF_IMG_20150930_131753_cell_167.png',\n",
       " 'C112P73ThinF_IMG_20150930_131900_cell_174.png',\n",
       " 'C112P73ThinF_IMG_20150930_131900_cell_175.png',\n",
       " 'C113P74ThinF_IMG_20150930_134355_cell_165.png',\n",
       " 'C113P74ThinF_IMG_20150930_134355_cell_166.png',\n",
       " 'C113P74ThinF_IMG_20150930_134355_cell_167.png',\n",
       " 'C113P74ThinF_IMG_20150930_134355_cell_168.png',\n",
       " 'C113P74ThinF_IMG_20150930_134355_cell_169.png',\n",
       " 'C113P74ThinF_IMG_20150930_134355_cell_170.png',\n",
       " 'C113P74ThinF_IMG_20150930_134355_cell_171.png',\n",
       " 'C113P74ThinF_IMG_20150930_134429_cell_176.png',\n",
       " 'C113P74ThinF_IMG_20150930_134429_cell_177.png',\n",
       " 'C113P74ThinF_IMG_20150930_134429_cell_178.png',\n",
       " 'C113P74ThinF_IMG_20150930_134429_cell_179.png',\n",
       " 'C113P74ThinF_IMG_20150930_134429_cell_180.png',\n",
       " 'C113P74ThinF_IMG_20150930_134429_cell_181.png',\n",
       " 'C113P74ThinF_IMG_20150930_134429_cell_182.png',\n",
       " 'C113P74ThinF_IMG_20150930_134429_cell_183.png',\n",
       " 'C113P74ThinF_IMG_20150930_134429_cell_184.png',\n",
       " 'C113P74ThinF_IMG_20150930_134614_cell_169.png',\n",
       " 'C113P74ThinF_IMG_20150930_134614_cell_170.png',\n",
       " 'C113P74ThinF_IMG_20150930_134614_cell_171.png',\n",
       " 'C113P74ThinF_IMG_20150930_134614_cell_174.png',\n",
       " 'C113P74ThinF_IMG_20150930_134614_cell_175.png',\n",
       " 'C113P74ThinF_IMG_20150930_134614_cell_176.png',\n",
       " 'C113P74ThinF_IMG_20150930_134751_cell_173.png',\n",
       " 'C113P74ThinF_IMG_20150930_134751_cell_174.png',\n",
       " 'C113P74ThinF_IMG_20150930_134751_cell_176.png',\n",
       " 'C113P74ThinF_IMG_20150930_134751_cell_177.png',\n",
       " 'C113P74ThinF_IMG_20150930_134751_cell_179.png',\n",
       " 'C113P74ThinF_IMG_20150930_134751_cell_180.png',\n",
       " 'C113P74ThinF_IMG_20150930_134751_cell_181.png',\n",
       " 'C113P74ThinF_IMG_20150930_134949_cell_158.png',\n",
       " 'C113P74ThinF_IMG_20150930_134949_cell_159.png',\n",
       " 'C113P74ThinF_IMG_20150930_134949_cell_160.png',\n",
       " 'C113P74ThinF_IMG_20150930_134949_cell_162.png',\n",
       " 'C113P74ThinF_IMG_20150930_135904_cell_180.png',\n",
       " 'C113P74ThinF_IMG_20150930_135904_cell_181.png',\n",
       " 'C113P74ThinF_IMG_20150930_135904_cell_182.png',\n",
       " 'C113P74ThinF_IMG_20150930_135904_cell_183.png',\n",
       " 'C113P74ThinF_IMG_20150930_135904_cell_184.png',\n",
       " 'C113P74ThinF_IMG_20150930_135904_cell_185.png',\n",
       " 'C113P74ThinF_IMG_20150930_135904_cell_187.png',\n",
       " 'C113P74ThinF_IMG_20150930_135904_cell_188.png',\n",
       " 'C113P74ThinF_IMG_20150930_135904_cell_189.png',\n",
       " 'C113P74ThinF_IMG_20150930_140646_cell_181.png',\n",
       " 'C113P74ThinF_IMG_20150930_140646_cell_182.png',\n",
       " 'C113P74ThinF_IMG_20150930_140646_cell_183.png',\n",
       " 'C113P74ThinF_IMG_20150930_140646_cell_184.png',\n",
       " 'C113P74ThinF_IMG_20150930_140646_cell_185.png',\n",
       " 'C113P74ThinF_IMG_20150930_140646_cell_186.png',\n",
       " 'C113P74ThinF_IMG_20150930_140646_cell_187.png',\n",
       " 'C113P74ThinF_IMG_20150930_140646_cell_188.png',\n",
       " 'C113P74ThinF_IMG_20150930_140646_cell_190.png',\n",
       " 'C114P75ThinF_IMG_20150930_150013_cell_195.png',\n",
       " 'C114P75ThinF_IMG_20150930_150013_cell_196.png',\n",
       " 'C114P75ThinF_IMG_20150930_150057_cell_172.png',\n",
       " 'C114P75ThinF_IMG_20150930_150145_cell_159.png',\n",
       " 'C114P75ThinF_IMG_20150930_150145_cell_160.png',\n",
       " 'C114P75ThinF_IMG_20150930_150555_cell_145.png',\n",
       " 'C114P75ThinF_IMG_20150930_150733_cell_149.png',\n",
       " 'C114P75ThinF_IMG_20150930_150733_cell_150.png',\n",
       " 'C114P75ThinF_IMG_20150930_150833_cell_164.png',\n",
       " 'C114P75ThinF_IMG_20150930_150833_cell_165.png',\n",
       " 'C114P75ThinF_IMG_20150930_151150_cell_177.png',\n",
       " 'C114P75ThinF_IMG_20150930_151150_cell_178.png',\n",
       " 'C114P75ThinF_IMG_20150930_151150_cell_179.png',\n",
       " 'C115P76ThinF_IMG_20150930_161825_cell_219.png',\n",
       " 'C115P76ThinF_IMG_20150930_161825_cell_221.png',\n",
       " 'C115P76ThinF_IMG_20150930_162038_cell_206.png',\n",
       " 'C115P76ThinF_IMG_20150930_162038_cell_207.png',\n",
       " 'C115P76ThinF_IMG_20150930_162038_cell_208.png',\n",
       " 'C115P76ThinF_IMG_20150930_162038_cell_209.png',\n",
       " 'C115P76ThinF_IMG_20150930_162038_cell_210.png',\n",
       " 'C115P76ThinF_IMG_20150930_162315_cell_256.png',\n",
       " 'C115P76ThinF_IMG_20150930_162315_cell_257.png',\n",
       " 'C115P76ThinF_IMG_20150930_163018_cell_252.png',\n",
       " 'C115P76ThinF_IMG_20150930_163156_cell_242.png',\n",
       " 'C115P76ThinF_IMG_20150930_163156_cell_243.png',\n",
       " 'C116P77ThinF_IMG_20150930_171219_cell_100.png',\n",
       " 'C116P77ThinF_IMG_20150930_171219_cell_101.png',\n",
       " 'C116P77ThinF_IMG_20150930_171219_cell_102.png',\n",
       " 'C116P77ThinF_IMG_20150930_171219_cell_104.png',\n",
       " 'C116P77ThinF_IMG_20150930_171219_cell_105.png',\n",
       " 'C116P77ThinF_IMG_20150930_171219_cell_106.png',\n",
       " 'C116P77ThinF_IMG_20150930_171219_cell_107.png',\n",
       " 'C116P77ThinF_IMG_20150930_171219_cell_109.png',\n",
       " 'C116P77ThinF_IMG_20150930_171219_cell_110.png',\n",
       " 'C116P77ThinF_IMG_20150930_171219_cell_111.png',\n",
       " 'C116P77ThinF_IMG_20150930_171219_cell_114.png',\n",
       " 'C116P77ThinF_IMG_20150930_171219_cell_76.png',\n",
       " 'C116P77ThinF_IMG_20150930_171219_cell_78.png',\n",
       " 'C116P77ThinF_IMG_20150930_171219_cell_79.png',\n",
       " 'C116P77ThinF_IMG_20150930_171219_cell_80.png',\n",
       " 'C116P77ThinF_IMG_20150930_171219_cell_81.png',\n",
       " 'C116P77ThinF_IMG_20150930_171219_cell_82.png',\n",
       " 'C116P77ThinF_IMG_20150930_171219_cell_83.png',\n",
       " 'C116P77ThinF_IMG_20150930_171219_cell_84.png',\n",
       " 'C116P77ThinF_IMG_20150930_171219_cell_85.png',\n",
       " 'C116P77ThinF_IMG_20150930_171219_cell_86.png',\n",
       " 'C116P77ThinF_IMG_20150930_171219_cell_87.png',\n",
       " 'C116P77ThinF_IMG_20150930_171219_cell_89.png',\n",
       " 'C116P77ThinF_IMG_20150930_171219_cell_90.png',\n",
       " 'C116P77ThinF_IMG_20150930_171219_cell_91.png',\n",
       " 'C116P77ThinF_IMG_20150930_171219_cell_92.png',\n",
       " 'C116P77ThinF_IMG_20150930_171219_cell_93.png',\n",
       " 'C116P77ThinF_IMG_20150930_171219_cell_94.png',\n",
       " 'C116P77ThinF_IMG_20150930_171219_cell_95.png',\n",
       " 'C116P77ThinF_IMG_20150930_171219_cell_96.png',\n",
       " 'C116P77ThinF_IMG_20150930_171219_cell_97.png',\n",
       " 'C116P77ThinF_IMG_20150930_171219_cell_98.png',\n",
       " 'C116P77ThinF_IMG_20150930_171219_cell_99.png',\n",
       " 'C116P77ThinF_IMG_20150930_171448_cell_100.png',\n",
       " 'C116P77ThinF_IMG_20150930_171448_cell_101.png',\n",
       " 'C116P77ThinF_IMG_20150930_171448_cell_102.png',\n",
       " 'C116P77ThinF_IMG_20150930_171448_cell_103.png',\n",
       " 'C116P77ThinF_IMG_20150930_171448_cell_104.png',\n",
       " 'C116P77ThinF_IMG_20150930_171448_cell_105.png',\n",
       " 'C116P77ThinF_IMG_20150930_171448_cell_106.png',\n",
       " 'C116P77ThinF_IMG_20150930_171448_cell_107.png',\n",
       " 'C116P77ThinF_IMG_20150930_171448_cell_108.png',\n",
       " 'C116P77ThinF_IMG_20150930_171448_cell_109.png',\n",
       " 'C116P77ThinF_IMG_20150930_171448_cell_110.png',\n",
       " 'C116P77ThinF_IMG_20150930_171448_cell_111.png',\n",
       " 'C116P77ThinF_IMG_20150930_171448_cell_112.png',\n",
       " 'C116P77ThinF_IMG_20150930_171448_cell_113.png',\n",
       " 'C116P77ThinF_IMG_20150930_171448_cell_115.png',\n",
       " 'C116P77ThinF_IMG_20150930_171448_cell_116.png',\n",
       " 'C116P77ThinF_IMG_20150930_171448_cell_117.png',\n",
       " 'C116P77ThinF_IMG_20150930_171448_cell_118.png',\n",
       " 'C116P77ThinF_IMG_20150930_171448_cell_119.png',\n",
       " 'C116P77ThinF_IMG_20150930_171448_cell_120.png',\n",
       " 'C116P77ThinF_IMG_20150930_171448_cell_121.png',\n",
       " 'C116P77ThinF_IMG_20150930_171448_cell_122.png',\n",
       " 'C116P77ThinF_IMG_20150930_171448_cell_123.png',\n",
       " 'C116P77ThinF_IMG_20150930_171448_cell_124.png',\n",
       " 'C116P77ThinF_IMG_20150930_171448_cell_125.png',\n",
       " 'C116P77ThinF_IMG_20150930_171448_cell_126.png',\n",
       " 'C116P77ThinF_IMG_20150930_171448_cell_127.png',\n",
       " 'C116P77ThinF_IMG_20150930_171448_cell_129.png',\n",
       " 'C116P77ThinF_IMG_20150930_171448_cell_130.png',\n",
       " 'C116P77ThinF_IMG_20150930_171448_cell_131.png',\n",
       " 'C116P77ThinF_IMG_20150930_171448_cell_132.png',\n",
       " 'C116P77ThinF_IMG_20150930_171448_cell_83.png',\n",
       " 'C116P77ThinF_IMG_20150930_171448_cell_84.png',\n",
       " 'C116P77ThinF_IMG_20150930_171448_cell_86.png',\n",
       " 'C116P77ThinF_IMG_20150930_171448_cell_89.png',\n",
       " 'C116P77ThinF_IMG_20150930_171448_cell_90.png',\n",
       " 'C116P77ThinF_IMG_20150930_171448_cell_91.png',\n",
       " 'C116P77ThinF_IMG_20150930_171448_cell_92.png',\n",
       " 'C116P77ThinF_IMG_20150930_171448_cell_93.png',\n",
       " 'C116P77ThinF_IMG_20150930_171448_cell_94.png',\n",
       " 'C116P77ThinF_IMG_20150930_171448_cell_95.png',\n",
       " 'C116P77ThinF_IMG_20150930_171448_cell_96.png',\n",
       " 'C116P77ThinF_IMG_20150930_171448_cell_97.png',\n",
       " 'C116P77ThinF_IMG_20150930_171448_cell_98.png',\n",
       " 'C116P77ThinF_IMG_20150930_171448_cell_99.png',\n",
       " 'C116P77ThinF_IMG_20150930_171558_cell_101.png',\n",
       " 'C116P77ThinF_IMG_20150930_171558_cell_102.png',\n",
       " 'C116P77ThinF_IMG_20150930_171558_cell_104.png',\n",
       " 'C116P77ThinF_IMG_20150930_171558_cell_105.png',\n",
       " 'C116P77ThinF_IMG_20150930_171558_cell_106.png',\n",
       " 'C116P77ThinF_IMG_20150930_171558_cell_107.png',\n",
       " 'C116P77ThinF_IMG_20150930_171558_cell_108.png',\n",
       " 'C116P77ThinF_IMG_20150930_171558_cell_109.png',\n",
       " 'C116P77ThinF_IMG_20150930_171558_cell_110.png',\n",
       " 'C116P77ThinF_IMG_20150930_171558_cell_111.png',\n",
       " 'C116P77ThinF_IMG_20150930_171558_cell_112.png',\n",
       " 'C116P77ThinF_IMG_20150930_171558_cell_115.png',\n",
       " 'C116P77ThinF_IMG_20150930_171558_cell_116.png',\n",
       " 'C116P77ThinF_IMG_20150930_171558_cell_117.png',\n",
       " 'C116P77ThinF_IMG_20150930_171558_cell_118.png',\n",
       " 'C116P77ThinF_IMG_20150930_171558_cell_119.png',\n",
       " 'C116P77ThinF_IMG_20150930_171558_cell_120.png',\n",
       " 'C116P77ThinF_IMG_20150930_171558_cell_121.png',\n",
       " 'C116P77ThinF_IMG_20150930_171558_cell_122.png',\n",
       " 'C116P77ThinF_IMG_20150930_171558_cell_123.png',\n",
       " 'C116P77ThinF_IMG_20150930_171558_cell_126.png',\n",
       " 'C116P77ThinF_IMG_20150930_171558_cell_128.png',\n",
       " 'C116P77ThinF_IMG_20150930_171558_cell_129.png',\n",
       " 'C116P77ThinF_IMG_20150930_171558_cell_130.png',\n",
       " 'C116P77ThinF_IMG_20150930_171558_cell_132.png',\n",
       " 'C116P77ThinF_IMG_20150930_171558_cell_133.png',\n",
       " 'C116P77ThinF_IMG_20150930_171558_cell_134.png',\n",
       " 'C116P77ThinF_IMG_20150930_171558_cell_135.png',\n",
       " 'C116P77ThinF_IMG_20150930_171558_cell_136.png',\n",
       " 'C116P77ThinF_IMG_20150930_171558_cell_137.png',\n",
       " 'C116P77ThinF_IMG_20150930_171558_cell_138.png',\n",
       " 'C116P77ThinF_IMG_20150930_171558_cell_139.png',\n",
       " 'C116P77ThinF_IMG_20150930_171558_cell_140.png',\n",
       " 'C116P77ThinF_IMG_20150930_171558_cell_141.png',\n",
       " 'C116P77ThinF_IMG_20150930_171558_cell_142.png',\n",
       " 'C116P77ThinF_IMG_20150930_171558_cell_144.png',\n",
       " 'C116P77ThinF_IMG_20150930_171558_cell_145.png',\n",
       " 'C116P77ThinF_IMG_20150930_171558_cell_146.png',\n",
       " 'C116P77ThinF_IMG_20150930_171558_cell_147.png',\n",
       " 'C116P77ThinF_IMG_20150930_171558_cell_148.png',\n",
       " 'C116P77ThinF_IMG_20150930_171558_cell_150.png',\n",
       " 'C116P77ThinF_IMG_20150930_171558_cell_151.png',\n",
       " 'C116P77ThinF_IMG_20150930_171558_cell_89.png',\n",
       " 'C116P77ThinF_IMG_20150930_171558_cell_90.png',\n",
       " 'C116P77ThinF_IMG_20150930_171558_cell_91.png',\n",
       " 'C116P77ThinF_IMG_20150930_171558_cell_92.png',\n",
       " 'C116P77ThinF_IMG_20150930_171558_cell_93.png',\n",
       " 'C116P77ThinF_IMG_20150930_171558_cell_95.png',\n",
       " 'C116P77ThinF_IMG_20150930_171558_cell_96.png',\n",
       " 'C116P77ThinF_IMG_20150930_171558_cell_97.png',\n",
       " 'C116P77ThinF_IMG_20150930_171558_cell_98.png',\n",
       " 'C116P77ThinF_IMG_20150930_171635_cell_100.png',\n",
       " 'C116P77ThinF_IMG_20150930_171635_cell_101.png',\n",
       " 'C116P77ThinF_IMG_20150930_171635_cell_102.png',\n",
       " 'C116P77ThinF_IMG_20150930_171635_cell_103.png',\n",
       " 'C116P77ThinF_IMG_20150930_171635_cell_105.png',\n",
       " 'C116P77ThinF_IMG_20150930_171635_cell_106.png',\n",
       " 'C116P77ThinF_IMG_20150930_171635_cell_107.png',\n",
       " 'C116P77ThinF_IMG_20150930_171635_cell_108.png',\n",
       " 'C116P77ThinF_IMG_20150930_171635_cell_109.png',\n",
       " 'C116P77ThinF_IMG_20150930_171635_cell_110.png',\n",
       " 'C116P77ThinF_IMG_20150930_171635_cell_111.png',\n",
       " 'C116P77ThinF_IMG_20150930_171635_cell_112.png',\n",
       " 'C116P77ThinF_IMG_20150930_171635_cell_113.png',\n",
       " 'C116P77ThinF_IMG_20150930_171635_cell_114.png',\n",
       " 'C116P77ThinF_IMG_20150930_171635_cell_115.png',\n",
       " 'C116P77ThinF_IMG_20150930_171635_cell_70.png',\n",
       " 'C116P77ThinF_IMG_20150930_171635_cell_71.png',\n",
       " 'C116P77ThinF_IMG_20150930_171635_cell_72.png',\n",
       " 'C116P77ThinF_IMG_20150930_171635_cell_73.png',\n",
       " 'C116P77ThinF_IMG_20150930_171635_cell_74.png',\n",
       " 'C116P77ThinF_IMG_20150930_171635_cell_75.png',\n",
       " 'C116P77ThinF_IMG_20150930_171635_cell_76.png',\n",
       " 'C116P77ThinF_IMG_20150930_171635_cell_77.png',\n",
       " 'C116P77ThinF_IMG_20150930_171635_cell_78.png',\n",
       " 'C116P77ThinF_IMG_20150930_171635_cell_79.png',\n",
       " 'C116P77ThinF_IMG_20150930_171635_cell_80.png',\n",
       " 'C116P77ThinF_IMG_20150930_171635_cell_81.png',\n",
       " 'C116P77ThinF_IMG_20150930_171635_cell_83.png',\n",
       " 'C116P77ThinF_IMG_20150930_171635_cell_84.png',\n",
       " 'C116P77ThinF_IMG_20150930_171635_cell_85.png',\n",
       " 'C116P77ThinF_IMG_20150930_171635_cell_86.png',\n",
       " 'C116P77ThinF_IMG_20150930_171635_cell_87.png',\n",
       " 'C116P77ThinF_IMG_20150930_171635_cell_89.png',\n",
       " 'C116P77ThinF_IMG_20150930_171635_cell_90.png',\n",
       " 'C116P77ThinF_IMG_20150930_171635_cell_91.png',\n",
       " 'C116P77ThinF_IMG_20150930_171635_cell_92.png',\n",
       " 'C116P77ThinF_IMG_20150930_171635_cell_93.png',\n",
       " 'C116P77ThinF_IMG_20150930_171635_cell_94.png',\n",
       " 'C116P77ThinF_IMG_20150930_171635_cell_95.png',\n",
       " 'C116P77ThinF_IMG_20150930_171635_cell_96.png',\n",
       " 'C116P77ThinF_IMG_20150930_171635_cell_97.png',\n",
       " 'C116P77ThinF_IMG_20150930_171635_cell_98.png',\n",
       " 'C116P77ThinF_IMG_20150930_171635_cell_99.png',\n",
       " 'C116P77ThinF_IMG_20150930_171739_cell_100.png',\n",
       " 'C116P77ThinF_IMG_20150930_171739_cell_101.png',\n",
       " 'C116P77ThinF_IMG_20150930_171739_cell_102.png',\n",
       " 'C116P77ThinF_IMG_20150930_171739_cell_103.png',\n",
       " 'C116P77ThinF_IMG_20150930_171739_cell_104.png',\n",
       " 'C116P77ThinF_IMG_20150930_171739_cell_105.png',\n",
       " 'C116P77ThinF_IMG_20150930_171739_cell_106.png',\n",
       " 'C116P77ThinF_IMG_20150930_171739_cell_107.png',\n",
       " 'C116P77ThinF_IMG_20150930_171739_cell_108.png',\n",
       " 'C116P77ThinF_IMG_20150930_171739_cell_111.png',\n",
       " 'C116P77ThinF_IMG_20150930_171739_cell_112.png',\n",
       " 'C116P77ThinF_IMG_20150930_171739_cell_113.png',\n",
       " 'C116P77ThinF_IMG_20150930_171739_cell_114.png',\n",
       " 'C116P77ThinF_IMG_20150930_171739_cell_115.png',\n",
       " 'C116P77ThinF_IMG_20150930_171739_cell_116.png',\n",
       " 'C116P77ThinF_IMG_20150930_171739_cell_117.png',\n",
       " 'C116P77ThinF_IMG_20150930_171739_cell_118.png',\n",
       " 'C116P77ThinF_IMG_20150930_171739_cell_75.png',\n",
       " 'C116P77ThinF_IMG_20150930_171739_cell_76.png',\n",
       " 'C116P77ThinF_IMG_20150930_171739_cell_77.png',\n",
       " 'C116P77ThinF_IMG_20150930_171739_cell_78.png',\n",
       " 'C116P77ThinF_IMG_20150930_171739_cell_80.png',\n",
       " 'C116P77ThinF_IMG_20150930_171739_cell_81.png',\n",
       " 'C116P77ThinF_IMG_20150930_171739_cell_82.png',\n",
       " 'C116P77ThinF_IMG_20150930_171739_cell_84.png',\n",
       " 'C116P77ThinF_IMG_20150930_171739_cell_86.png',\n",
       " 'C116P77ThinF_IMG_20150930_171739_cell_87.png',\n",
       " 'C116P77ThinF_IMG_20150930_171739_cell_88.png',\n",
       " 'C116P77ThinF_IMG_20150930_171739_cell_90.png',\n",
       " 'C116P77ThinF_IMG_20150930_171739_cell_91.png',\n",
       " 'C116P77ThinF_IMG_20150930_171739_cell_92.png',\n",
       " 'C116P77ThinF_IMG_20150930_171739_cell_93.png',\n",
       " 'C116P77ThinF_IMG_20150930_171739_cell_94.png',\n",
       " 'C116P77ThinF_IMG_20150930_171739_cell_95.png',\n",
       " 'C116P77ThinF_IMG_20150930_171739_cell_96.png',\n",
       " 'C116P77ThinF_IMG_20150930_171739_cell_97.png',\n",
       " 'C116P77ThinF_IMG_20150930_171739_cell_98.png',\n",
       " 'C116P77ThinF_IMG_20150930_171739_cell_99.png',\n",
       " 'C116P77ThinF_IMG_20150930_171809_cell_58.png',\n",
       " 'C116P77ThinF_IMG_20150930_171809_cell_59.png',\n",
       " 'C116P77ThinF_IMG_20150930_171809_cell_60.png',\n",
       " 'C116P77ThinF_IMG_20150930_171809_cell_61.png',\n",
       " 'C116P77ThinF_IMG_20150930_171809_cell_62.png',\n",
       " 'C116P77ThinF_IMG_20150930_171809_cell_64.png',\n",
       " 'C116P77ThinF_IMG_20150930_171809_cell_65.png',\n",
       " 'C116P77ThinF_IMG_20150930_171809_cell_66.png',\n",
       " 'C116P77ThinF_IMG_20150930_171809_cell_67.png',\n",
       " 'C116P77ThinF_IMG_20150930_171809_cell_68.png',\n",
       " 'C116P77ThinF_IMG_20150930_171809_cell_69.png',\n",
       " 'C116P77ThinF_IMG_20150930_171809_cell_70.png',\n",
       " 'C116P77ThinF_IMG_20150930_171809_cell_71.png',\n",
       " 'C116P77ThinF_IMG_20150930_171809_cell_72.png',\n",
       " 'C116P77ThinF_IMG_20150930_171809_cell_73.png',\n",
       " 'C116P77ThinF_IMG_20150930_171809_cell_74.png',\n",
       " 'C116P77ThinF_IMG_20150930_171809_cell_75.png',\n",
       " 'C116P77ThinF_IMG_20150930_171809_cell_76.png',\n",
       " 'C116P77ThinF_IMG_20150930_171809_cell_77.png',\n",
       " 'C116P77ThinF_IMG_20150930_171809_cell_78.png',\n",
       " 'C116P77ThinF_IMG_20150930_171809_cell_79.png',\n",
       " 'C116P77ThinF_IMG_20150930_171809_cell_80.png',\n",
       " 'C116P77ThinF_IMG_20150930_171809_cell_81.png',\n",
       " 'C116P77ThinF_IMG_20150930_171809_cell_82.png',\n",
       " 'C116P77ThinF_IMG_20150930_171809_cell_83.png',\n",
       " 'C116P77ThinF_IMG_20150930_171809_cell_84.png',\n",
       " 'C116P77ThinF_IMG_20150930_171809_cell_85.png',\n",
       " 'C116P77ThinF_IMG_20150930_171809_cell_86.png',\n",
       " 'C116P77ThinF_IMG_20150930_171809_cell_87.png',\n",
       " 'C116P77ThinF_IMG_20150930_171844_cell_100.png',\n",
       " 'C116P77ThinF_IMG_20150930_171844_cell_101.png',\n",
       " 'C116P77ThinF_IMG_20150930_171844_cell_102.png',\n",
       " 'C116P77ThinF_IMG_20150930_171844_cell_103.png',\n",
       " 'C116P77ThinF_IMG_20150930_171844_cell_104.png',\n",
       " 'C116P77ThinF_IMG_20150930_171844_cell_105.png',\n",
       " 'C116P77ThinF_IMG_20150930_171844_cell_106.png',\n",
       " 'C116P77ThinF_IMG_20150930_171844_cell_107.png',\n",
       " 'C116P77ThinF_IMG_20150930_171844_cell_108.png',\n",
       " 'C116P77ThinF_IMG_20150930_171844_cell_109.png',\n",
       " 'C116P77ThinF_IMG_20150930_171844_cell_110.png',\n",
       " 'C116P77ThinF_IMG_20150930_171844_cell_111.png',\n",
       " 'C116P77ThinF_IMG_20150930_171844_cell_112.png',\n",
       " 'C116P77ThinF_IMG_20150930_171844_cell_113.png',\n",
       " 'C116P77ThinF_IMG_20150930_171844_cell_114.png',\n",
       " 'C116P77ThinF_IMG_20150930_171844_cell_115.png',\n",
       " 'C116P77ThinF_IMG_20150930_171844_cell_116.png',\n",
       " 'C116P77ThinF_IMG_20150930_171844_cell_117.png',\n",
       " 'C116P77ThinF_IMG_20150930_171844_cell_118.png',\n",
       " 'C116P77ThinF_IMG_20150930_171844_cell_119.png',\n",
       " 'C116P77ThinF_IMG_20150930_171844_cell_120.png',\n",
       " 'C116P77ThinF_IMG_20150930_171844_cell_121.png',\n",
       " 'C116P77ThinF_IMG_20150930_171844_cell_122.png',\n",
       " 'C116P77ThinF_IMG_20150930_171844_cell_123.png',\n",
       " 'C116P77ThinF_IMG_20150930_171844_cell_124.png',\n",
       " 'C116P77ThinF_IMG_20150930_171844_cell_126.png',\n",
       " 'C116P77ThinF_IMG_20150930_171844_cell_127.png',\n",
       " 'C116P77ThinF_IMG_20150930_171844_cell_128.png',\n",
       " 'C116P77ThinF_IMG_20150930_171844_cell_82.png',\n",
       " 'C116P77ThinF_IMG_20150930_171844_cell_83.png',\n",
       " 'C116P77ThinF_IMG_20150930_171844_cell_84.png',\n",
       " 'C116P77ThinF_IMG_20150930_171844_cell_85.png',\n",
       " 'C116P77ThinF_IMG_20150930_171844_cell_86.png',\n",
       " 'C116P77ThinF_IMG_20150930_171844_cell_87.png',\n",
       " 'C116P77ThinF_IMG_20150930_171844_cell_88.png',\n",
       " 'C116P77ThinF_IMG_20150930_171844_cell_89.png',\n",
       " 'C116P77ThinF_IMG_20150930_171844_cell_90.png',\n",
       " 'C116P77ThinF_IMG_20150930_171844_cell_91.png',\n",
       " 'C116P77ThinF_IMG_20150930_171844_cell_93.png',\n",
       " 'C116P77ThinF_IMG_20150930_171844_cell_94.png',\n",
       " 'C116P77ThinF_IMG_20150930_171844_cell_95.png',\n",
       " 'C116P77ThinF_IMG_20150930_171844_cell_96.png',\n",
       " 'C116P77ThinF_IMG_20150930_171844_cell_97.png',\n",
       " 'C116P77ThinF_IMG_20150930_171844_cell_98.png',\n",
       " 'C116P77ThinF_IMG_20150930_171844_cell_99.png',\n",
       " 'C116P77ThinF_IMG_20150930_171954_cell_100.png',\n",
       " 'C116P77ThinF_IMG_20150930_171954_cell_101.png',\n",
       " 'C116P77ThinF_IMG_20150930_171954_cell_102.png',\n",
       " 'C116P77ThinF_IMG_20150930_171954_cell_103.png',\n",
       " 'C116P77ThinF_IMG_20150930_171954_cell_104.png',\n",
       " 'C116P77ThinF_IMG_20150930_171954_cell_105.png',\n",
       " 'C116P77ThinF_IMG_20150930_171954_cell_107.png',\n",
       " 'C116P77ThinF_IMG_20150930_171954_cell_108.png',\n",
       " 'C116P77ThinF_IMG_20150930_171954_cell_109.png',\n",
       " 'C116P77ThinF_IMG_20150930_171954_cell_111.png',\n",
       " 'C116P77ThinF_IMG_20150930_171954_cell_112.png',\n",
       " 'C116P77ThinF_IMG_20150930_171954_cell_113.png',\n",
       " 'C116P77ThinF_IMG_20150930_171954_cell_115.png',\n",
       " 'C116P77ThinF_IMG_20150930_171954_cell_73.png',\n",
       " 'C116P77ThinF_IMG_20150930_171954_cell_74.png',\n",
       " 'C116P77ThinF_IMG_20150930_171954_cell_75.png',\n",
       " 'C116P77ThinF_IMG_20150930_171954_cell_76.png',\n",
       " 'C116P77ThinF_IMG_20150930_171954_cell_77.png',\n",
       " 'C116P77ThinF_IMG_20150930_171954_cell_78.png',\n",
       " 'C116P77ThinF_IMG_20150930_171954_cell_79.png',\n",
       " 'C116P77ThinF_IMG_20150930_171954_cell_80.png',\n",
       " 'C116P77ThinF_IMG_20150930_171954_cell_81.png',\n",
       " 'C116P77ThinF_IMG_20150930_171954_cell_82.png',\n",
       " 'C116P77ThinF_IMG_20150930_171954_cell_83.png',\n",
       " 'C116P77ThinF_IMG_20150930_171954_cell_84.png',\n",
       " 'C116P77ThinF_IMG_20150930_171954_cell_85.png',\n",
       " 'C116P77ThinF_IMG_20150930_171954_cell_86.png',\n",
       " 'C116P77ThinF_IMG_20150930_171954_cell_87.png',\n",
       " 'C116P77ThinF_IMG_20150930_171954_cell_88.png',\n",
       " 'C116P77ThinF_IMG_20150930_171954_cell_90.png',\n",
       " 'C116P77ThinF_IMG_20150930_171954_cell_91.png',\n",
       " 'C116P77ThinF_IMG_20150930_171954_cell_92.png',\n",
       " 'C116P77ThinF_IMG_20150930_171954_cell_93.png',\n",
       " 'C116P77ThinF_IMG_20150930_171954_cell_94.png',\n",
       " 'C116P77ThinF_IMG_20150930_171954_cell_95.png',\n",
       " 'C116P77ThinF_IMG_20150930_171954_cell_96.png',\n",
       " 'C116P77ThinF_IMG_20150930_171954_cell_97.png',\n",
       " 'C116P77ThinF_IMG_20150930_171954_cell_98.png',\n",
       " 'C116P77ThinF_IMG_20150930_171954_cell_99.png',\n",
       " 'C116P77ThinF_IMG_20150930_172112_cell_100.png',\n",
       " 'C116P77ThinF_IMG_20150930_172112_cell_101.png',\n",
       " 'C116P77ThinF_IMG_20150930_172112_cell_102.png',\n",
       " 'C116P77ThinF_IMG_20150930_172112_cell_103.png',\n",
       " 'C116P77ThinF_IMG_20150930_172112_cell_104.png',\n",
       " 'C116P77ThinF_IMG_20150930_172112_cell_105.png',\n",
       " 'C116P77ThinF_IMG_20150930_172112_cell_106.png',\n",
       " 'C116P77ThinF_IMG_20150930_172112_cell_107.png',\n",
       " 'C116P77ThinF_IMG_20150930_172112_cell_109.png',\n",
       " 'C116P77ThinF_IMG_20150930_172112_cell_111.png',\n",
       " 'C116P77ThinF_IMG_20150930_172112_cell_112.png',\n",
       " 'C116P77ThinF_IMG_20150930_172112_cell_113.png',\n",
       " 'C116P77ThinF_IMG_20150930_172112_cell_114.png',\n",
       " 'C116P77ThinF_IMG_20150930_172112_cell_115.png',\n",
       " 'C116P77ThinF_IMG_20150930_172112_cell_65.png',\n",
       " 'C116P77ThinF_IMG_20150930_172112_cell_66.png',\n",
       " 'C116P77ThinF_IMG_20150930_172112_cell_67.png',\n",
       " 'C116P77ThinF_IMG_20150930_172112_cell_68.png',\n",
       " ...]"
      ]
     },
     "execution_count": 7,
     "metadata": {},
     "output_type": "execute_result"
    }
   ],
   "source": [
    "os.listdir(train_path + '/parasitized') "
   ]
  },
  {
   "cell_type": "code",
   "execution_count": 8,
   "id": "0114c3f7",
   "metadata": {},
   "outputs": [
    {
     "data": {
      "text/plain": [
       "'C100P61ThinF_IMG_20150918_144104_cell_162.png'"
      ]
     },
     "execution_count": 8,
     "metadata": {},
     "output_type": "execute_result"
    }
   ],
   "source": [
    "os.listdir(train_path + '/parasitized')[0]"
   ]
  },
  {
   "cell_type": "code",
   "execution_count": 9,
   "id": "553489dc",
   "metadata": {},
   "outputs": [],
   "source": [
    "para_cell = train_path + '/parasitized/' + 'C100P61ThinF_IMG_20150918_144104_cell_162.png'"
   ]
  },
  {
   "cell_type": "code",
   "execution_count": 10,
   "id": "a759a4d3",
   "metadata": {},
   "outputs": [
    {
     "data": {
      "text/plain": [
       "'C:/Users/sayan/Documents/Python Coding/FINAL_TF2_FILES/TF_2_Notebooks_and_Data/cell_images/cell_images/train/parasitized/C100P61ThinF_IMG_20150918_144104_cell_162.png'"
      ]
     },
     "execution_count": 10,
     "metadata": {},
     "output_type": "execute_result"
    }
   ],
   "source": [
    "para_cell"
   ]
  },
  {
   "cell_type": "code",
   "execution_count": 11,
   "id": "594baaa1",
   "metadata": {},
   "outputs": [
    {
     "data": {
      "text/plain": [
       "array([[[0., 0., 0.],\n",
       "        [0., 0., 0.],\n",
       "        [0., 0., 0.],\n",
       "        ...,\n",
       "        [0., 0., 0.],\n",
       "        [0., 0., 0.],\n",
       "        [0., 0., 0.]],\n",
       "\n",
       "       [[0., 0., 0.],\n",
       "        [0., 0., 0.],\n",
       "        [0., 0., 0.],\n",
       "        ...,\n",
       "        [0., 0., 0.],\n",
       "        [0., 0., 0.],\n",
       "        [0., 0., 0.]],\n",
       "\n",
       "       [[0., 0., 0.],\n",
       "        [0., 0., 0.],\n",
       "        [0., 0., 0.],\n",
       "        ...,\n",
       "        [0., 0., 0.],\n",
       "        [0., 0., 0.],\n",
       "        [0., 0., 0.]],\n",
       "\n",
       "       ...,\n",
       "\n",
       "       [[0., 0., 0.],\n",
       "        [0., 0., 0.],\n",
       "        [0., 0., 0.],\n",
       "        ...,\n",
       "        [0., 0., 0.],\n",
       "        [0., 0., 0.],\n",
       "        [0., 0., 0.]],\n",
       "\n",
       "       [[0., 0., 0.],\n",
       "        [0., 0., 0.],\n",
       "        [0., 0., 0.],\n",
       "        ...,\n",
       "        [0., 0., 0.],\n",
       "        [0., 0., 0.],\n",
       "        [0., 0., 0.]],\n",
       "\n",
       "       [[0., 0., 0.],\n",
       "        [0., 0., 0.],\n",
       "        [0., 0., 0.],\n",
       "        ...,\n",
       "        [0., 0., 0.],\n",
       "        [0., 0., 0.],\n",
       "        [0., 0., 0.]]], dtype=float32)"
      ]
     },
     "execution_count": 11,
     "metadata": {},
     "output_type": "execute_result"
    }
   ],
   "source": [
    "imread(para_cell)"
   ]
  },
  {
   "cell_type": "code",
   "execution_count": 12,
   "id": "5d3ff60c",
   "metadata": {},
   "outputs": [
    {
     "data": {
      "text/plain": [
       "(148, 142, 3)"
      ]
     },
     "execution_count": 12,
     "metadata": {},
     "output_type": "execute_result"
    }
   ],
   "source": [
    "imread(para_cell).shape"
   ]
  },
  {
   "cell_type": "code",
   "execution_count": 32,
   "id": "f26a1174",
   "metadata": {},
   "outputs": [],
   "source": [
    "para_img=imread(para_cell)"
   ]
  },
  {
   "cell_type": "code",
   "execution_count": 13,
   "id": "b51559dd",
   "metadata": {},
   "outputs": [
    {
     "data": {
      "text/plain": [
       "<matplotlib.image.AxesImage at 0x22a3f206b00>"
      ]
     },
     "execution_count": 13,
     "metadata": {},
     "output_type": "execute_result"
    },
    {
     "data": {
      "image/png": "[encoded data removed]",
      "text/plain": [
       "<Figure size 432x288 with 1 Axes>"
      ]
     },
     "metadata": {
      "needs_background": "light"
     },
     "output_type": "display_data"
    }
   ],
   "source": [
    "plt.imshow(imread(para_cell))"
   ]
  },
  {
   "cell_type": "code",
   "execution_count": 14,
   "id": "968daa52",
   "metadata": {},
   "outputs": [
    {
     "data": {
      "text/plain": [
       "'C100P61ThinF_IMG_20150918_144104_cell_128.png'"
      ]
     },
     "execution_count": 14,
     "metadata": {},
     "output_type": "execute_result"
    }
   ],
   "source": [
    "os.listdir(train_path + '/uninfected')[0]"
   ]
  },
  {
   "cell_type": "code",
   "execution_count": 26,
   "id": "ddfa9894",
   "metadata": {},
   "outputs": [],
   "source": [
    "uninfected_cell_path = train_path + '/uninfected/' + 'C100P61ThinF_IMG_20150918_144104_cell_128.png'"
   ]
  },
  {
   "cell_type": "code",
   "execution_count": 27,
   "id": "11e2f9f7",
   "metadata": {},
   "outputs": [],
   "source": [
    "uninfected_cell = imread(uninfected_cell_path)"
   ]
  },
  {
   "cell_type": "code",
   "execution_count": 28,
   "id": "b40ce57b",
   "metadata": {},
   "outputs": [
    {
     "data": {
      "text/plain": [
       "<matplotlib.image.AxesImage at 0x22a3f337f40>"
      ]
     },
     "execution_count": 28,
     "metadata": {},
     "output_type": "execute_result"
    },
    {
     "data": {
      "image/png": "[encoded data removed]",
      "text/plain": [
       "<Figure size 432x288 with 1 Axes>"
      ]
     },
     "metadata": {
      "needs_background": "light"
     },
     "output_type": "display_data"
    }
   ],
   "source": [
    "plt.imshow(uninfected_cell)"
   ]
  },
  {
   "cell_type": "markdown",
   "id": "26156fcf",
   "metadata": {},
   "source": [
    "#### How many images are present?"
   ]
  },
  {
   "cell_type": "code",
   "execution_count": 29,
   "id": "dbc0bc00",
   "metadata": {},
   "outputs": [
    {
     "data": {
      "text/plain": [
       "12480"
      ]
     },
     "execution_count": 29,
     "metadata": {},
     "output_type": "execute_result"
    }
   ],
   "source": [
    "len(os.listdir(train_path+'\\\\parasitized'))"
   ]
  },
  {
   "cell_type": "code",
   "execution_count": 30,
   "id": "52f7d408",
   "metadata": {},
   "outputs": [
    {
     "data": {
      "text/plain": [
       "12480"
      ]
     },
     "execution_count": 30,
     "metadata": {},
     "output_type": "execute_result"
    }
   ],
   "source": [
    "len(os.listdir(train_path+'\\\\uninfected'))"
   ]
  },
  {
   "cell_type": "code",
   "execution_count": 24,
   "id": "4634a2f4",
   "metadata": {},
   "outputs": [],
   "source": [
    "# The dimensions of the images are very different, so this to be normalised"
   ]
  },
  {
   "cell_type": "code",
   "execution_count": 31,
   "id": "43803bbe",
   "metadata": {},
   "outputs": [
    {
     "data": {
      "text/plain": [
       "(139, 160, 3)"
      ]
     },
     "execution_count": 31,
     "metadata": {},
     "output_type": "execute_result"
    }
   ],
   "source": [
    "uninfected_cell.shape"
   ]
  },
  {
   "cell_type": "code",
   "execution_count": 33,
   "id": "a063517a",
   "metadata": {},
   "outputs": [
    {
     "data": {
      "text/plain": [
       "(148, 142, 3)"
      ]
     },
     "execution_count": 33,
     "metadata": {},
     "output_type": "execute_result"
    }
   ],
   "source": [
    "para_img.shape"
   ]
  },
  {
   "cell_type": "code",
   "execution_count": 43,
   "id": "5af0ebc3",
   "metadata": {},
   "outputs": [],
   "source": [
    "dim1 = []\n",
    "dim2 = []\n",
    "for image_filename in os.listdir(test_path+'/uninfected'):\n",
    "    img = imread (test_path+'/uninfected'+'/'+image_filename)\n",
    "    d1,d2,colors = img.shape\n",
    "    dim1.append(d1)\n",
    "    dim2.append(d2)"
   ]
  },
  {
   "cell_type": "code",
   "execution_count": 46,
   "id": "32cabf68",
   "metadata": {},
   "outputs": [
    {
     "name": "stderr",
     "output_type": "stream",
     "text": [
      "C:\\Users\\sayan\\anaconda3\\envs\\mytfenv\\lib\\site-packages\\seaborn\\_decorators.py:36: FutureWarning: Pass the following variables as keyword args: x, y. From version 0.12, the only valid positional argument will be `data`, and passing other arguments without an explicit keyword will result in an error or misinterpretation.\n",
      "  warnings.warn(\n"
     ]
    },
    {
     "data": {
      "text/plain": [
       "<seaborn.axisgrid.JointGrid at 0x22a41f9ef80>"
      ]
     },
     "execution_count": 46,
     "metadata": {},
     "output_type": "execute_result"
    },
    {
     "data": {
      "image/png": "[encoded data removed]",
      "text/plain": [
       "<Figure size 432x432 with 3 Axes>"
      ]
     },
     "metadata": {
      "needs_background": "light"
     },
     "output_type": "display_data"
    }
   ],
   "source": [
    "sns.jointplot(dim1,dim2)"
   ]
  },
  {
   "cell_type": "code",
   "execution_count": 51,
   "id": "358ed0cf",
   "metadata": {},
   "outputs": [
    {
     "data": {
      "text/plain": [
       "130.92538461538462"
      ]
     },
     "execution_count": 51,
     "metadata": {},
     "output_type": "execute_result"
    }
   ],
   "source": [
    "np.mean(dim1)"
   ]
  },
  {
   "cell_type": "code",
   "execution_count": 52,
   "id": "844a48c6",
   "metadata": {},
   "outputs": [
    {
     "data": {
      "text/plain": [
       "130.75"
      ]
     },
     "execution_count": 52,
     "metadata": {},
     "output_type": "execute_result"
    }
   ],
   "source": [
    "np.mean(dim2)"
   ]
  },
  {
   "cell_type": "code",
   "execution_count": 53,
   "id": "4944e3c2",
   "metadata": {},
   "outputs": [],
   "source": [
    "image_shape = (130,130,3)"
   ]
  },
  {
   "cell_type": "code",
   "execution_count": 54,
   "id": "a7b39c1c",
   "metadata": {},
   "outputs": [],
   "source": [
    "# Current imgae size is huge and therefore needs creation of batches"
   ]
  },
  {
   "cell_type": "code",
   "execution_count": 55,
   "id": "aa4556f9",
   "metadata": {},
   "outputs": [
    {
     "data": {
      "text/plain": [
       "50700"
      ]
     },
     "execution_count": 55,
     "metadata": {},
     "output_type": "execute_result"
    }
   ],
   "source": [
    "130*130*3"
   ]
  },
  {
   "cell_type": "code",
   "execution_count": 57,
   "id": "071d6a81",
   "metadata": {},
   "outputs": [],
   "source": [
    "from tensorflow.keras.preprocessing.image import ImageDataGenerator"
   ]
  },
  {
   "cell_type": "code",
   "execution_count": 62,
   "id": "40fd74e8",
   "metadata": {},
   "outputs": [
    {
     "data": {
      "text/plain": [
       "array([[[0., 0., 0.],\n",
       "        [0., 0., 0.],\n",
       "        [0., 0., 0.],\n",
       "        ...,\n",
       "        [0., 0., 0.],\n",
       "        [0., 0., 0.],\n",
       "        [0., 0., 0.]],\n",
       "\n",
       "       [[0., 0., 0.],\n",
       "        [0., 0., 0.],\n",
       "        [0., 0., 0.],\n",
       "        ...,\n",
       "        [0., 0., 0.],\n",
       "        [0., 0., 0.],\n",
       "        [0., 0., 0.]],\n",
       "\n",
       "       [[0., 0., 0.],\n",
       "        [0., 0., 0.],\n",
       "        [0., 0., 0.],\n",
       "        ...,\n",
       "        [0., 0., 0.],\n",
       "        [0., 0., 0.],\n",
       "        [0., 0., 0.]],\n",
       "\n",
       "       ...,\n",
       "\n",
       "       [[0., 0., 0.],\n",
       "        [0., 0., 0.],\n",
       "        [0., 0., 0.],\n",
       "        ...,\n",
       "        [0., 0., 0.],\n",
       "        [0., 0., 0.],\n",
       "        [0., 0., 0.]],\n",
       "\n",
       "       [[0., 0., 0.],\n",
       "        [0., 0., 0.],\n",
       "        [0., 0., 0.],\n",
       "        ...,\n",
       "        [0., 0., 0.],\n",
       "        [0., 0., 0.],\n",
       "        [0., 0., 0.]],\n",
       "\n",
       "       [[0., 0., 0.],\n",
       "        [0., 0., 0.],\n",
       "        [0., 0., 0.],\n",
       "        ...,\n",
       "        [0., 0., 0.],\n",
       "        [0., 0., 0.],\n",
       "        [0., 0., 0.]]], dtype=float32)"
      ]
     },
     "execution_count": 62,
     "metadata": {},
     "output_type": "execute_result"
    }
   ],
   "source": [
    "imread(para_cell)"
   ]
  },
  {
   "cell_type": "code",
   "execution_count": 61,
   "id": "f1a66548",
   "metadata": {},
   "outputs": [
    {
     "data": {
      "text/plain": [
       "0.9098039"
      ]
     },
     "execution_count": 61,
     "metadata": {},
     "output_type": "execute_result"
    }
   ],
   "source": [
    "imread(para_cell).max()"
   ]
  },
  {
   "cell_type": "code",
   "execution_count": 64,
   "id": "66255acb",
   "metadata": {},
   "outputs": [
    {
     "data": {
      "text/plain": [
       "0.88235295"
      ]
     },
     "execution_count": 64,
     "metadata": {},
     "output_type": "execute_result"
    }
   ],
   "source": [
    "uninfected_cell.max()"
   ]
  },
  {
   "cell_type": "code",
   "execution_count": 65,
   "id": "1994e9cc",
   "metadata": {},
   "outputs": [],
   "source": [
    "# We see already scaled"
   ]
  },
  {
   "cell_type": "markdown",
   "id": "7ca63a82",
   "metadata": {},
   "source": [
    "### Pre-Processing for image manipulation"
   ]
  },
  {
   "cell_type": "code",
   "execution_count": 66,
   "id": "a4ad7703",
   "metadata": {},
   "outputs": [],
   "source": [
    "from tensorflow.keras.preprocessing.image import ImageDataGenerator"
   ]
  },
  {
   "cell_type": "code",
   "execution_count": 67,
   "id": "4363084d",
   "metadata": {},
   "outputs": [],
   "source": [
    "image_gen = ImageDataGenerator(rotation_range=20, # rotate the image 20 degrees\n",
    "                               width_shift_range=0.10, # Shift the pic width by a max of 5%\n",
    "                               height_shift_range=0.10, # Shift the pic height by a max of 5%\n",
    "                               rescale=1/255, # Rescale the image by normalzing it.\n",
    "                               shear_range=0.1, # Shear means cutting away part of the image (max 10%)\n",
    "                               zoom_range=0.1, # Zoom in by 10% max\n",
    "                               horizontal_flip=True, # Allo horizontal flipping\n",
    "                               fill_mode='nearest' # Fill in missing pixels with the nearest filled value\n",
    "                              )"
   ]
  },
  {
   "cell_type": "code",
   "execution_count": 68,
   "id": "04a515b1",
   "metadata": {},
   "outputs": [
    {
     "data": {
      "text/plain": [
       "<matplotlib.image.AxesImage at 0x22a4c9ef8b0>"
      ]
     },
     "execution_count": 68,
     "metadata": {},
     "output_type": "execute_result"
    },
    {
     "data": {
      "image/png": "[encoded data removed]",
      "text/plain": [
       "<Figure size 432x288 with 1 Axes>"
      ]
     },
     "metadata": {
      "needs_background": "light"
     },
     "output_type": "display_data"
    }
   ],
   "source": [
    "plt.imshow(para_img)"
   ]
  },
  {
   "cell_type": "code",
   "execution_count": 69,
   "id": "7781c505",
   "metadata": {},
   "outputs": [
    {
     "data": {
      "text/plain": [
       "<matplotlib.image.AxesImage at 0x22a4c637490>"
      ]
     },
     "execution_count": 69,
     "metadata": {},
     "output_type": "execute_result"
    },
    {
     "data": {
      "image/png": "[encoded data removed]",
      "text/plain": [
       "<Figure size 432x288 with 1 Axes>"
      ]
     },
     "metadata": {
      "needs_background": "light"
     },
     "output_type": "display_data"
    }
   ],
   "source": [
    "plt.imshow(image_gen.random_transform(para_img))"
   ]
  },
  {
   "cell_type": "markdown",
   "id": "013ed7d3",
   "metadata": {},
   "source": [
    "#### Using the .flow_from_directory for structuring the images while using them --> certain folder structure is required"
   ]
  },
  {
   "cell_type": "code",
   "execution_count": 70,
   "id": "e9689551",
   "metadata": {},
   "outputs": [
    {
     "name": "stdout",
     "output_type": "stream",
     "text": [
      "Found 24958 images belonging to 2 classes.\n"
     ]
    },
    {
     "data": {
      "text/plain": [
       "<keras.preprocessing.image.DirectoryIterator at 0x22a4d0e44c0>"
      ]
     },
     "execution_count": 70,
     "metadata": {},
     "output_type": "execute_result"
    }
   ],
   "source": [
    "image_gen.flow_from_directory(train_path)"
   ]
  },
  {
   "cell_type": "code",
   "execution_count": 71,
   "id": "04569c47",
   "metadata": {},
   "outputs": [
    {
     "name": "stdout",
     "output_type": "stream",
     "text": [
      "Found 2600 images belonging to 2 classes.\n"
     ]
    },
    {
     "data": {
      "text/plain": [
       "<keras.preprocessing.image.DirectoryIterator at 0x22a4d316e60>"
      ]
     },
     "execution_count": 71,
     "metadata": {},
     "output_type": "execute_result"
    }
   ],
   "source": [
    "image_gen.flow_from_directory(test_path)"
   ]
  },
  {
   "cell_type": "markdown",
   "id": "38785043",
   "metadata": {},
   "source": [
    "### Creating the model"
   ]
  },
  {
   "cell_type": "code",
   "execution_count": 73,
   "id": "71cbb01e",
   "metadata": {},
   "outputs": [],
   "source": [
    "from tensorflow.keras.models import Sequential\n",
    "from tensorflow.keras.layers import Dense, Conv2D, MaxPool2D, Flatten, Dropout"
   ]
  },
  {
   "cell_type": "code",
   "execution_count": 75,
   "id": "10b54b0c",
   "metadata": {},
   "outputs": [],
   "source": [
    "model = Sequential()\n",
    "\n",
    "# CONVOLUTIONAL LAYER 1\n",
    "model.add(Conv2D(filters=32, kernel_size=(3,3),input_shape=image_shape, activation='relu',))\n",
    "# POOLING LAYER 1\n",
    "model.add(MaxPool2D(pool_size=(2, 2)))\n",
    "\n",
    "# CONVOLUTIONAL LAYER 2\n",
    "model.add(Conv2D(filters=64, kernel_size=(3,3),input_shape=image_shape, activation='relu',))\n",
    "# POOLING LAYER 2\n",
    "model.add(MaxPool2D(pool_size=(2, 2)))\n",
    "\n",
    "# CONVOLUTIONAL LAYER 3\n",
    "model.add(Conv2D(filters=64, kernel_size=(3,3),input_shape=image_shape, activation='relu',))\n",
    "# POOLING LAYER 3\n",
    "model.add(MaxPool2D(pool_size=(2, 2)))\n",
    "\n",
    "model.add(Flatten())\n",
    "\n",
    "model.add(Dense(128, activation='relu'))\n",
    "model.add(Dropout(0.5))\n",
    "\n",
    "model.add(Dense(1, activation='sigmoid'))\n",
    "\n",
    "model.compile(loss='binary_crossentropy',\n",
    "              optimizer='adam',\n",
    "              metrics=['accuracy'])"
   ]
  },
  {
   "cell_type": "code",
   "execution_count": 76,
   "id": "ec93ff89",
   "metadata": {},
   "outputs": [
    {
     "name": "stdout",
     "output_type": "stream",
     "text": [
      "Model: \"sequential_1\"\n",
      "_________________________________________________________________\n",
      " Layer (type)                Output Shape              Param #   \n",
      "=================================================================\n",
      " conv2d_3 (Conv2D)           (None, 128, 128, 32)      896       \n",
      "                                                                 \n",
      " max_pooling2d_3 (MaxPooling  (None, 64, 64, 32)       0         \n",
      " 2D)                                                             \n",
      "                                                                 \n",
      " conv2d_4 (Conv2D)           (None, 62, 62, 64)        18496     \n",
      "                                                                 \n",
      " max_pooling2d_4 (MaxPooling  (None, 31, 31, 64)       0         \n",
      " 2D)                                                             \n",
      "                                                                 \n",
      " conv2d_5 (Conv2D)           (None, 29, 29, 64)        36928     \n",
      "                                                                 \n",
      " max_pooling2d_5 (MaxPooling  (None, 14, 14, 64)       0         \n",
      " 2D)                                                             \n",
      "                                                                 \n",
      " flatten_1 (Flatten)         (None, 12544)             0         \n",
      "                                                                 \n",
      " dense (Dense)               (None, 128)               1605760   \n",
      "                                                                 \n",
      " dropout (Dropout)           (None, 128)               0         \n",
      "                                                                 \n",
      " dense_1 (Dense)             (None, 1)                 129       \n",
      "                                                                 \n",
      "=================================================================\n",
      "Total params: 1,662,209\n",
      "Trainable params: 1,662,209\n",
      "Non-trainable params: 0\n",
      "_________________________________________________________________\n"
     ]
    }
   ],
   "source": [
    "model.summary()"
   ]
  },
  {
   "cell_type": "markdown",
   "id": "4daf9bba",
   "metadata": {},
   "source": [
    "### Early Stopping"
   ]
  },
  {
   "cell_type": "code",
   "execution_count": 77,
   "id": "97f90cda",
   "metadata": {},
   "outputs": [],
   "source": [
    "from tensorflow.keras.callbacks import EarlyStopping"
   ]
  },
  {
   "cell_type": "code",
   "execution_count": 78,
   "id": "b75a5cb1",
   "metadata": {},
   "outputs": [],
   "source": [
    "early_stop = EarlyStopping(monitor='val_loss', patience=2)"
   ]
  },
  {
   "cell_type": "code",
   "execution_count": 80,
   "id": "ec255d85",
   "metadata": {},
   "outputs": [
    {
     "name": "stdout",
     "output_type": "stream",
     "text": [
      "Model: \"sequential_1\"\n",
      "_________________________________________________________________\n",
      " Layer (type)                Output Shape              Param #   \n",
      "=================================================================\n",
      " conv2d_3 (Conv2D)           (None, 128, 128, 32)      896       \n",
      "                                                                 \n",
      " max_pooling2d_3 (MaxPooling  (None, 64, 64, 32)       0         \n",
      " 2D)                                                             \n",
      "                                                                 \n",
      " conv2d_4 (Conv2D)           (None, 62, 62, 64)        18496     \n",
      "                                                                 \n",
      " max_pooling2d_4 (MaxPooling  (None, 31, 31, 64)       0         \n",
      " 2D)                                                             \n",
      "                                                                 \n",
      " conv2d_5 (Conv2D)           (None, 29, 29, 64)        36928     \n",
      "                                                                 \n",
      " max_pooling2d_5 (MaxPooling  (None, 14, 14, 64)       0         \n",
      " 2D)                                                             \n",
      "                                                                 \n",
      " flatten_1 (Flatten)         (None, 12544)             0         \n",
      "                                                                 \n",
      " dense (Dense)               (None, 128)               1605760   \n",
      "                                                                 \n",
      " dropout (Dropout)           (None, 128)               0         \n",
      "                                                                 \n",
      " dense_1 (Dense)             (None, 1)                 129       \n",
      "                                                                 \n",
      "=================================================================\n",
      "Total params: 1,662,209\n",
      "Trainable params: 1,662,209\n",
      "Non-trainable params: 0\n",
      "_________________________________________________________________\n"
     ]
    }
   ],
   "source": [
    "model.summary()"
   ]
  },
  {
   "cell_type": "code",
   "execution_count": 81,
   "id": "f3f940ba",
   "metadata": {},
   "outputs": [],
   "source": [
    "batch_size = 16"
   ]
  },
  {
   "cell_type": "code",
   "execution_count": 82,
   "id": "12fcc16a",
   "metadata": {},
   "outputs": [
    {
     "name": "stdout",
     "output_type": "stream",
     "text": [
      "Found 24958 images belonging to 2 classes.\n"
     ]
    }
   ],
   "source": [
    "train_image_gen = image_gen.flow_from_directory(train_path, \n",
    "                                                target_size=image_shape[:2],\n",
    "                                                color_mode='rgb', \n",
    "                                                batch_size=batch_size,\n",
    "                                                class_mode='binary')"
   ]
  },
  {
   "cell_type": "code",
   "execution_count": 83,
   "id": "63d72a6d",
   "metadata": {},
   "outputs": [
    {
     "name": "stdout",
     "output_type": "stream",
     "text": [
      "Found 2600 images belonging to 2 classes.\n"
     ]
    }
   ],
   "source": [
    "test_image_gen = image_gen.flow_from_directory(test_path, \n",
    "                                                target_size=image_shape[:2],\n",
    "                                                color_mode='rgb', \n",
    "                                                batch_size=batch_size,\n",
    "                                                class_mode='binary',\n",
    "                                              shuffle = False)\n",
    "# prevent from shuffling or lese the labels will get shuffled"
   ]
  },
  {
   "cell_type": "code",
   "execution_count": 84,
   "id": "f461956e",
   "metadata": {},
   "outputs": [
    {
     "data": {
      "text/plain": [
       "{'parasitized': 0, 'uninfected': 1}"
      ]
     },
     "execution_count": 84,
     "metadata": {},
     "output_type": "execute_result"
    }
   ],
   "source": [
    "train_image_gen.class_indices"
   ]
  },
  {
   "cell_type": "code",
   "execution_count": 85,
   "id": "94daa18e",
   "metadata": {},
   "outputs": [
    {
     "data": {
      "text/plain": [
       "{'parasitized': 0, 'uninfected': 1}"
      ]
     },
     "execution_count": 85,
     "metadata": {},
     "output_type": "execute_result"
    }
   ],
   "source": [
    "test_image_gen.class_indices\n"
   ]
  },
  {
   "cell_type": "code",
   "execution_count": 86,
   "id": "1bd04b8d",
   "metadata": {},
   "outputs": [
    {
     "name": "stdout",
     "output_type": "stream",
     "text": [
      "Epoch 1/20\n"
     ]
    },
    {
     "name": "stderr",
     "output_type": "stream",
     "text": [
      "C:\\Users\\sayan\\AppData\\Local\\Temp\\ipykernel_2788\\646351422.py:1: UserWarning: `Model.fit_generator` is deprecated and will be removed in a future version. Please use `Model.fit`, which supports generators.\n",
      "  results = model.fit_generator(train_image_gen, epochs = 20, validation_data=test_image_gen,callbacks=[early_stop])\n"
     ]
    },
    {
     "name": "stdout",
     "output_type": "stream",
     "text": [
      "1560/1560 [==============================] - 201s 129ms/step - loss: 0.3670 - accuracy: 0.8315 - val_loss: 0.1861 - val_accuracy: 0.9350\n",
      "Epoch 2/20\n",
      "1560/1560 [==============================] - 187s 120ms/step - loss: 0.1746 - accuracy: 0.9458 - val_loss: 0.1809 - val_accuracy: 0.9396\n",
      "Epoch 3/20\n",
      "1560/1560 [==============================] - 174s 112ms/step - loss: 0.1642 - accuracy: 0.9497 - val_loss: 0.1765 - val_accuracy: 0.9473\n",
      "Epoch 4/20\n",
      "1560/1560 [==============================] - 198s 127ms/step - loss: 0.1600 - accuracy: 0.9503 - val_loss: 0.1647 - val_accuracy: 0.9481\n",
      "Epoch 5/20\n",
      "1560/1560 [==============================] - 189s 121ms/step - loss: 0.1599 - accuracy: 0.9502 - val_loss: 0.1694 - val_accuracy: 0.9462\n",
      "Epoch 6/20\n",
      "1560/1560 [==============================] - 205s 131ms/step - loss: 0.1561 - accuracy: 0.9512 - val_loss: 0.1584 - val_accuracy: 0.9481\n",
      "Epoch 7/20\n",
      "1560/1560 [==============================] - 196s 126ms/step - loss: 0.1564 - accuracy: 0.9512 - val_loss: 0.1669 - val_accuracy: 0.9458\n",
      "Epoch 8/20\n",
      "1560/1560 [==============================] - 197s 126ms/step - loss: 0.1558 - accuracy: 0.9500 - val_loss: 0.1564 - val_accuracy: 0.9492\n",
      "Epoch 9/20\n",
      "1560/1560 [==============================] - 8769s 6s/step - loss: 0.1510 - accuracy: 0.9527 - val_loss: 0.1627 - val_accuracy: 0.9488\n",
      "Epoch 10/20\n",
      "1560/1560 [==============================] - 185s 119ms/step - loss: 0.1521 - accuracy: 0.9518 - val_loss: 0.1522 - val_accuracy: 0.9519\n",
      "Epoch 11/20\n",
      "1560/1560 [==============================] - 186s 119ms/step - loss: 0.1506 - accuracy: 0.9523 - val_loss: 0.1423 - val_accuracy: 0.9500\n",
      "Epoch 12/20\n",
      "1560/1560 [==============================] - 181s 116ms/step - loss: 0.1481 - accuracy: 0.9519 - val_loss: 0.1801 - val_accuracy: 0.9477\n",
      "Epoch 13/20\n",
      "1560/1560 [==============================] - 179s 115ms/step - loss: 0.1437 - accuracy: 0.9544 - val_loss: 0.1567 - val_accuracy: 0.9538\n"
     ]
    }
   ],
   "source": [
    "results = model.fit_generator(train_image_gen, epochs = 20, validation_data=test_image_gen,callbacks=[early_stop])"
   ]
  },
  {
   "cell_type": "code",
   "execution_count": 87,
   "id": "db8d05f7",
   "metadata": {},
   "outputs": [],
   "source": [
    "losses = pd.DataFrame(model.history.history)"
   ]
  },
  {
   "cell_type": "code",
   "execution_count": 91,
   "id": "1472c5cd",
   "metadata": {},
   "outputs": [
    {
     "data": {
      "text/plain": [
       "['loss', 'accuracy']"
      ]
     },
     "execution_count": 91,
     "metadata": {},
     "output_type": "execute_result"
    }
   ],
   "source": [
    "model.metrics_names"
   ]
  },
  {
   "cell_type": "code",
   "execution_count": 88,
   "id": "f533e852",
   "metadata": {},
   "outputs": [
    {
     "data": {
      "text/plain": [
       "<AxesSubplot:>"
      ]
     },
     "execution_count": 88,
     "metadata": {},
     "output_type": "execute_result"
    },
    {
     "data": {
      "image/png": "[encoded data removed]",
      "text/plain": [
       "<Figure size 432x288 with 1 Axes>"
      ]
     },
     "metadata": {
      "needs_background": "light"
     },
     "output_type": "display_data"
    }
   ],
   "source": [
    "losses[['loss','val_loss']].plot()"
   ]
  },
  {
   "cell_type": "code",
   "execution_count": 92,
   "id": "8793c48d",
   "metadata": {},
   "outputs": [
    {
     "name": "stderr",
     "output_type": "stream",
     "text": [
      "C:\\Users\\sayan\\AppData\\Local\\Temp\\ipykernel_2788\\2032896581.py:1: UserWarning: `Model.predict_generator` is deprecated and will be removed in a future version. Please use `Model.predict`, which supports generators.\n",
      "  pred = model.predict_generator(test_image_gen)\n"
     ]
    }
   ],
   "source": [
    "pred = model.predict_generator(test_image_gen)"
   ]
  },
  {
   "cell_type": "code",
   "execution_count": 93,
   "id": "3902410b",
   "metadata": {},
   "outputs": [
    {
     "data": {
      "text/plain": [
       "array([[2.0092418e-06],\n",
       "       [1.8904067e-06],\n",
       "       [2.4609833e-05],\n",
       "       ...,\n",
       "       [9.8468095e-01],\n",
       "       [9.9042988e-01],\n",
       "       [8.5624772e-01]], dtype=float32)"
      ]
     },
     "execution_count": 93,
     "metadata": {},
     "output_type": "execute_result"
    }
   ],
   "source": [
    "pred"
   ]
  },
  {
   "cell_type": "code",
   "execution_count": 95,
   "id": "fdc8bf6f",
   "metadata": {},
   "outputs": [],
   "source": [
    "# returning the probabilities"
   ]
  },
  {
   "cell_type": "code",
   "execution_count": 105,
   "id": "6356c9e5",
   "metadata": {},
   "outputs": [],
   "source": [
    "predictions = pred > 0.5 # Threshold can be set higher"
   ]
  },
  {
   "cell_type": "code",
   "execution_count": 97,
   "id": "a0d05516",
   "metadata": {},
   "outputs": [
    {
     "data": {
      "text/plain": [
       "array([[False],\n",
       "       [False],\n",
       "       [False],\n",
       "       ...,\n",
       "       [ True],\n",
       "       [ True],\n",
       "       [ True]])"
      ]
     },
     "execution_count": 97,
     "metadata": {},
     "output_type": "execute_result"
    }
   ],
   "source": [
    "predictions"
   ]
  },
  {
   "cell_type": "code",
   "execution_count": 98,
   "id": "a3d1ca4c",
   "metadata": {},
   "outputs": [],
   "source": [
    "from sklearn.metrics import classification_report, confusion_matrix"
   ]
  },
  {
   "cell_type": "code",
   "execution_count": 103,
   "id": "6a3a295b",
   "metadata": {},
   "outputs": [
    {
     "data": {
      "text/plain": [
       "array([0, 0, 0, ..., 1, 1, 1])"
      ]
     },
     "execution_count": 103,
     "metadata": {},
     "output_type": "execute_result"
    }
   ],
   "source": [
    "test_image_gen.classes"
   ]
  },
  {
   "cell_type": "code",
   "execution_count": 104,
   "id": "d1c2c4ea",
   "metadata": {},
   "outputs": [
    {
     "name": "stdout",
     "output_type": "stream",
     "text": [
      "              precision    recall  f1-score   support\n",
      "\n",
      "           0       0.96      0.94      0.95      1300\n",
      "           1       0.94      0.96      0.95      1300\n",
      "\n",
      "    accuracy                           0.95      2600\n",
      "   macro avg       0.95      0.95      0.95      2600\n",
      "weighted avg       0.95      0.95      0.95      2600\n",
      "\n"
     ]
    }
   ],
   "source": [
    "print(classification_report(test_image_gen.classes, predictions))"
   ]
  },
  {
   "cell_type": "code",
   "execution_count": 106,
   "id": "982fe67e",
   "metadata": {},
   "outputs": [
    {
     "data": {
      "text/plain": [
       "array([[1227,   73],\n",
       "       [  52, 1248]], dtype=int64)"
      ]
     },
     "execution_count": 106,
     "metadata": {},
     "output_type": "execute_result"
    }
   ],
   "source": [
    "confusion_matrix(test_image_gen.classes, predictions)"
   ]
  },
  {
   "cell_type": "markdown",
   "id": "44413b57",
   "metadata": {},
   "source": [
    "### Predicting"
   ]
  },
  {
   "cell_type": "code",
   "execution_count": 107,
   "id": "19f11602",
   "metadata": {},
   "outputs": [],
   "source": [
    "from tensorflow.keras.preprocessing import image"
   ]
  },
  {
   "cell_type": "code",
   "execution_count": 111,
   "id": "ba7ea0e9",
   "metadata": {},
   "outputs": [],
   "source": [
    "my_image = image.load_img(para_cell, target_size=image_shape)"
   ]
  },
  {
   "cell_type": "code",
   "execution_count": 112,
   "id": "55ee8d71",
   "metadata": {},
   "outputs": [
    {
     "data": {
      "image/png": "[encoded data removed]",
      "text/plain": [
       "<PIL.Image.Image image mode=RGB size=130x130 at 0x22A4C9ED0F0>"
      ]
     },
     "execution_count": 112,
     "metadata": {},
     "output_type": "execute_result"
    }
   ],
   "source": [
    "my_image"
   ]
  },
  {
   "cell_type": "code",
   "execution_count": 115,
   "id": "9b383be6",
   "metadata": {},
   "outputs": [],
   "source": [
    "my_img_arr = image.img_to_array(my_image)"
   ]
  },
  {
   "cell_type": "code",
   "execution_count": 116,
   "id": "1d0bc43f",
   "metadata": {},
   "outputs": [
    {
     "data": {
      "text/plain": [
       "array([[[0., 0., 0.],\n",
       "        [0., 0., 0.],\n",
       "        [0., 0., 0.],\n",
       "        ...,\n",
       "        [0., 0., 0.],\n",
       "        [0., 0., 0.],\n",
       "        [0., 0., 0.]],\n",
       "\n",
       "       [[0., 0., 0.],\n",
       "        [0., 0., 0.],\n",
       "        [0., 0., 0.],\n",
       "        ...,\n",
       "        [0., 0., 0.],\n",
       "        [0., 0., 0.],\n",
       "        [0., 0., 0.]],\n",
       "\n",
       "       [[0., 0., 0.],\n",
       "        [0., 0., 0.],\n",
       "        [0., 0., 0.],\n",
       "        ...,\n",
       "        [0., 0., 0.],\n",
       "        [0., 0., 0.],\n",
       "        [0., 0., 0.]],\n",
       "\n",
       "       ...,\n",
       "\n",
       "       [[0., 0., 0.],\n",
       "        [0., 0., 0.],\n",
       "        [0., 0., 0.],\n",
       "        ...,\n",
       "        [0., 0., 0.],\n",
       "        [0., 0., 0.],\n",
       "        [0., 0., 0.]],\n",
       "\n",
       "       [[0., 0., 0.],\n",
       "        [0., 0., 0.],\n",
       "        [0., 0., 0.],\n",
       "        ...,\n",
       "        [0., 0., 0.],\n",
       "        [0., 0., 0.],\n",
       "        [0., 0., 0.]],\n",
       "\n",
       "       [[0., 0., 0.],\n",
       "        [0., 0., 0.],\n",
       "        [0., 0., 0.],\n",
       "        ...,\n",
       "        [0., 0., 0.],\n",
       "        [0., 0., 0.],\n",
       "        [0., 0., 0.]]], dtype=float32)"
      ]
     },
     "execution_count": 116,
     "metadata": {},
     "output_type": "execute_result"
    }
   ],
   "source": [
    "my_img_arr"
   ]
  },
  {
   "cell_type": "code",
   "execution_count": 117,
   "id": "9def86fb",
   "metadata": {},
   "outputs": [
    {
     "data": {
      "text/plain": [
       "(130, 130, 3)"
      ]
     },
     "execution_count": 117,
     "metadata": {},
     "output_type": "execute_result"
    }
   ],
   "source": [
    "my_img_arr.shape"
   ]
  },
  {
   "cell_type": "code",
   "execution_count": 118,
   "id": "0939f4a6",
   "metadata": {},
   "outputs": [],
   "source": [
    "my_img_arr = np.expand_dims(my_img_arr,axis=0)"
   ]
  },
  {
   "cell_type": "code",
   "execution_count": 120,
   "id": "64e356f1",
   "metadata": {},
   "outputs": [
    {
     "data": {
      "text/plain": [
       "(1, 130, 130, 3)"
      ]
     },
     "execution_count": 120,
     "metadata": {},
     "output_type": "execute_result"
    }
   ],
   "source": [
    "my_img_arr.shape"
   ]
  },
  {
   "cell_type": "code",
   "execution_count": 121,
   "id": "6a0be3f1",
   "metadata": {},
   "outputs": [
    {
     "name": "stdout",
     "output_type": "stream",
     "text": [
      "1/1 [==============================] - 0s 56ms/step\n"
     ]
    },
    {
     "data": {
      "text/plain": [
       "array([[0.]], dtype=float32)"
      ]
     },
     "execution_count": 121,
     "metadata": {},
     "output_type": "execute_result"
    }
   ],
   "source": [
    "model.predict(my_img_arr)"
   ]
  },
  {
   "cell_type": "code",
   "execution_count": 123,
   "id": "16b8fc1b",
   "metadata": {},
   "outputs": [
    {
     "data": {
      "text/plain": [
       "{'parasitized': 0, 'uninfected': 1}"
      ]
     },
     "execution_count": 123,
     "metadata": {},
     "output_type": "execute_result"
    }
   ],
   "source": [
    "train_image_gen.class_indices"
   ]
  },
  {
   "cell_type": "code",
   "execution_count": 124,
   "id": "17f1a1b9",
   "metadata": {},
   "outputs": [],
   "source": [
    "# Predicts as a parasite"
   ]
  },
  {
   "cell_type": "code",
   "execution_count": null,
   "id": "bacb57f0",
   "metadata": {},
   "outputs": [],
   "source": []
  }
 ],
 "metadata": {
  "kernelspec": {
   "display_name": "Python 3 (ipykernel)",
   "language": "python",
   "name": "python3"
  },
  "language_info": {
   "codemirror_mode": {
    "name": "ipython",
    "version": 3
   },
   "file_extension": ".py",
   "mimetype": "text/x-python",
   "name": "python",
   "nbconvert_exporter": "python",
   "pygments_lexer": "ipython3",
   "version": "3.10.4"
  }
 },
 "nbformat": 4,
 "nbformat_minor": 5
}
